{
 "cells": [
  {
   "cell_type": "markdown",
   "metadata": {},
   "source": [
    "---\n",
    "comments: true\n",
    "layout: post\n",
    "title: CB 3.16-3.17 Simulations\n",
    "description: Student Lesson by Aidan, Rayyan, Nathan, and Daniel\n",
    "courses: { compsci: {week: 11} }\n",
    "type: hacks\n",
    "---"
   ]
  },
  {
   "cell_type": "markdown",
   "metadata": {},
   "source": [
    "# 3.16 Simulations"
   ]
  },
  {
   "cell_type": "markdown",
   "metadata": {},
   "source": [
    "\n"
   ]
  },
  {
   "cell_type": "markdown",
   "metadata": {},
   "source": [
    "## Part 1\n",
    "\n",
    "### Learning Objective:\n",
    "\n",
    "- How computers can be used to represent real-world phoenomena\n",
    "\n",
    "### Essential Knowledge:\n",
    "\n",
    "- <span style=\"background-color: #b63c59\">Simulations</span> are abstractions for more complex objects or phoenomena for a specific purpose\n",
    "\n",
    "- <span style=\"background-color: #b63c59\">Mimic</span> real-world events, with simplification\n",
    "\n",
    "- Made to <span style=\"background-color: #b63c59\">refine</span> results/hypothesis\n",
    "\n",
    "- May have <span style=\"background-color: #b63c59\">limitations</span> or <span style=\"background-color: #b63c59\">bias</span>\n",
    "\n",
    "- When creating car-testing simulations, we assume the driver is at least 16 years old, and has their seatbelt\n",
    "on.\n",
    "\n",
    "- Examples: Radar displays, RNG simulating variability, and weather forecasting\n",
    "\n",
    "### Flight Simulator\n",
    "- Flight Simulator is an example of a simulation\n",
    "- It simulates flying real planes anywhere you want\n",
    "    - You are able to choose your type of plane\n",
    "    - You can fly anywhere you want\n",
    "- Flight simulator is benefical in saving money, time, and resources because:\n",
    "    - No risk of damaging a real plane\n",
    "    - No risk of risking life of passengers or valuable crew members\n",
    "    - No waste of resources like gas and fuel\n",
    "    - Practically no money\n",
    "- Siomulations like flight simulator save a lot of money and resources but may be negative in the fact that it isn't acutally real life.\n",
    "\n",
    "### Vocab:\n",
    "\n",
    "- <span style=\"background-color: #b63c59\">Simulation Abstraction</span> - The little errors or unusual things that come up when running a simulation\n",
    "\n",
    "### Popcorn Hack 1:\n",
    "\n",
    "- True or false:\n",
    "\n",
    "1. (T or F) A simulation will always have the same result\n",
    "\n",
    "2. (T or F) A simulation is used when it would be more convenient than an experiment\n",
    "\n",
    "3. (T or F) A simulation models very specific scenarios\n",
    "\n",
    "4. (T or F) A simulation cannot provide valid data to be used as fact\n",
    "\n",
    "## Answers\n",
    "\n",
    "1. <button id=\"nathan1\">Answer</button>\n",
    "\n",
    "2. <button id=\"nathan2\">Answer</button>\n",
    "\n",
    "3. <button id=\"nathan3\">Answer</button>\n",
    "\n",
    "4. <button id=\"nathan4\">Answer</button>\n",
    "\n",
    "<script>\n",
    "const answerButton1 = document.getElementById('nathan1')\n",
    "\n",
    "answerButton1.addEventListener('click', (event) => {\n",
    "    answerButton1.innerHTML = 'False'\n",
    "});\n",
    "\n",
    "const answerButton2 = document.getElementById('nathan2')\n",
    "\n",
    "answerButton2.addEventListener('click', (event) => {\n",
    "    answerButton2.innerHTML = 'True'\n",
    "});\n",
    "\n",
    "const answerButton3 = document.getElementById('nathan3')\n",
    "\n",
    "answerButton3.addEventListener('click', (event) => {\n",
    "    answerButton3.innerHTML = 'True'\n",
    "});\n",
    "\n",
    "const answerButton4 = document.getElementById('nathan4')\n",
    "\n",
    "answerButton4.addEventListener('click', (event) => {\n",
    "    answerButton4.innerHTML = 'False'\n",
    "});\n",
    "</script>\n",
    "\n",
    "\n",
    "\n",
    "## Part 2\n",
    "\n",
    "- <span style=\"background-color: #b63c59\">Simulations</span> are abstractions; mocking the real world items to get an idea of how they work on actual items\n",
    "\n",
    "\n",
    "### Simulations vs. Experiments: \n",
    "\n",
    "| Simulations    | Experiments |\n",
    "| -------- | ------- |\n",
    "| Simulations are where you try to <ins>mock</ins> the real-world items to get an idea of how they may perform without having to use the actual items.  | Experiment is dealing with an <ins>actual</ins> real-world object, using real-world equipment.   |\n",
    "| Simulations can be <ins>less expensive</ins> than experiments. | Experiments can be <ins>more expensive</ins> than simulations.    |\n",
    "| Simulations provide <ins>estimated</ins> results based on models.    | Experiments provide <ins>actual</ins> results.   |\n",
    "| A simulation can model real-world events that are <ins>not feasible or doable</ins> for experiments.    | Experiments may not be possible using real-world equipment, for reasons such as the assets are not available, or they would be <ins>too dangerous</ins>.  |\n",
    "| Simulations are <ins>easier</ins> to repeat.    | Once set up, simulations may be <ins>faster</ins> and Experiments may take a <ins>long time</ins> to set up and conduct.  |\n",
    "| Simulations can be <ins>safer</ins> to conduct. Example: Simulation of a car crash   | Experiments can provide results that <ins>prove the safety</ins> of the product or event. Example: Flying an aircraft prototype.   |\n",
    "\n",
    "\n",
    "- Simulations are less risky and provide information on the probability of something happening\n",
    "- Experiments are riskier but more invasive, allowing for results\n",
    "- Simulations are less expensive\n",
    "- EXAMPLE: Tony Stark’s time travel SIMULATION was a test to see if his time travel theory would work\n",
    "- EXAMPLE RESULT: Tony Stark’s time travel SIMULATION worked and it provided an accurate estimate of how it would work. He then proceeded with an EXPERIMENT to see if it would actually work.\n",
    "\n",
    "\n",
    "### Popcorn Hack 2:\n",
    "\n",
    "Which of the following scenarios is better to do as a simulation than a calculation?\n",
    "\n",
    "1. Keeping score at a football game\n",
    "2. Studying the spread of disease in a country\n",
    "3. Determining average grade from a set of quizzes\n",
    "4. Studying the impact carbon emissions on the environment\n",
    "\n",
    " <button id=\"daniel1\">Answer</button>\n",
    "\n",
    "<script>\n",
    "const answerButton10 = document.getElementById('daniel1')\n",
    "\n",
    "answerButton10.addEventListener('click', (event) => {\n",
    "answerButton10.innerHTML = 'ANSWER: Scenarios 2 and 4 are better to do as a simulation because simulations provide a better, accurate estimate. Scenarios 1 and 3 are actual numbers that are straight up calculations'\n",
    "});\n",
    "</script>\n",
    "\n",
    "### Popcorn Hack 3:\n",
    "\n",
    "Which of the following statements expresses a constraint of using a computer simulation to imitate a real-world object or system?\n",
    "\n",
    "1. Computer simulations can only be done after the real-world object or system has been created.\n",
    "2. Computer simulations can only run-on powerful computers that are not accessible to the public.\n",
    "3. Computer simulations usually make some assumptions about the real-world object or system being modeled.\n",
    "4. Computer simulations parameters and conditions are difficult to change.\n",
    "\n",
    " <button id=\"daniel2\">Answer</button>\n",
    "\n",
    "<script>\n",
    "const answerButton11 = document.getElementById('daniel2')\n",
    "\n",
    "answerButton11.addEventListener('click', (event) => {\n",
    "answerButton11.innerHTML = 'ANSWER: Scenario 3 because simulations are biased and make assumptions'\n",
    "});\n",
    "</script>\n",
    "\n",
    "\n",
    "### Simulations Overview\n",
    "\n",
    "- Simulations can contain bias derived from the choices of real-world elements that were included or excluded.\n",
    "- Simulations are most useful when real-world events are impractical for experiments (e.g., too big, too small, too fast, too slow, too expensive, or too dangerous).\n",
    "- Simulations facilitate the formulation and refinement of hypotheses related to the objects or phenomena under consideration.\n",
    "- Random number generators can be used to simulate the variability that exists in the real world.\n"
   ]
  },
  {
   "cell_type": "markdown",
   "metadata": {},
   "source": [
    "# 3.17 Algorithmic Efficiency"
   ]
  },
  {
   "cell_type": "markdown",
   "metadata": {},
   "source": [
    "## Part 1"
   ]
  },
  {
   "cell_type": "markdown",
   "metadata": {},
   "source": [
    "### What is <span style=\"background-color: #b63c59\">Algorithmic Efficiency</span> ?\n",
    "- A way to find the <ins>fastest</ins> and <ins>least</ins> resource dependent solution to a problem\n",
    "- Measures using number of computations (you can think of them as steps) in a algorithm before you can solve your problem\n",
    "- Generally speaking <ins>less</ins> computations = <ins>faster</ins> = <ins>better</ins> code but it's heavily dependent on input size as algorithms with small input sizes may sometimes seem faster but are actually much slower at high input sizes"
   ]
  },
  {
   "cell_type": "markdown",
   "metadata": {},
   "source": [
    "### Basic Algorithm Example:\n",
    "- Picture a set of 4 cards numbered [4,6,7,2]. To sort these cards algorithmically, you run through them from left to right, comparing if the numbers are bigger or smaller than the card to their right. \n",
    "- If they're already ordered correctly, you keep them as is and mark down that you made a comparison. If they're bigger than the card on their right, you swap their positions and repeat the process for the next set of 2 cards, until you fixed them entirely. You mark down comparisons and swaps throughout the algorithm. \n",
    "- For this example, you have to make 7 comparisons and 3 swaps to make the list ordered, into [2,4,6,7], even though you're only actually changing the position of one number. "
   ]
  },
  {
   "cell_type": "markdown",
   "metadata": {},
   "source": [
    "### Better Algorithm Example:\n",
    "- A different algorithm for the same problem, for example, one where you instead hold onto the smallest card instead each time you go through the set, could only use 6 comparisons and 1 swap, making it algorithmically more efficient. "
   ]
  },
  {
   "cell_type": "markdown",
   "metadata": {},
   "source": [
    "### Popcorn Hack 4\n",
    "\n",
    "Which algorithm in this set is unreasonable and why?\n",
    "<img src=\"{{site.baseurl}}/images/algorithmEfficiency.png\">"
   ]
  },
  {
   "cell_type": "markdown",
   "metadata": {},
   "source": [
    "<button id=\"rayyan1\">Answer</button>\n",
    "\n",
    "<script>\n",
    "    const answerButton5 = document.getElementById('rayyan1')\n",
    "\n",
    "answerButton5.addEventListener('click', (event) => {\n",
    "answerButton5.innerHTML = 'A as it is the only one that increases exponentially (4^x vs x^3, 7+4x, etc.)'\n",
    "});\n",
    "</script>"
   ]
  },
  {
   "cell_type": "markdown",
   "metadata": {},
   "source": [
    "### Algorithm Efficiency Simply Explained:\n",
    "- On the most basic level, you can think of efficiency as a measure of the number of steps it takes you to reach your answer. If one algorithm has 7 total steps and a different one for the same problem has 20, your first algorithm is likely more efficient. \n",
    "- But, when analyzing algorithm efficiency, you can only achieve accuracy by measuring with different input sizes as well. This is due to the fact that some algorithms increase their number of steps with polynomial efficiency (linear increasing or other polynomial styles), but others increase exponentially or factorially.\n",
    "- Algorithms are only reasonable if their operate with polynomial efficiency"
   ]
  },
  {
   "cell_type": "markdown",
   "metadata": {},
   "source": [
    "## Part 2"
   ]
  },
  {
   "cell_type": "markdown",
   "metadata": {},
   "source": [
    "### Key Term\n",
    "\n",
    "- A <span style=\"background-color: #b63c59\">heuristic</span> is an approach to a problem where it's solution is <ins>not optimal</ins> but used because other techniques that **WILL** find the best solution are <ins>not practical</ins>.\n",
    "\n",
    "### Traveling Salesperson Problem\n",
    "\n",
    "- There is a set of cities. Find the shortest route that visits every city exactly once and returns to the start point\n",
    "\n",
    "![Traveling Salesperson](../../../images/traveling-salesperson.png)\n",
    "![Traveling Salesperson 2](../../../images/traveling-salesperson-2.png)\n",
    "\n",
    "- Picked randomly\n",
    "- Imagine finding the shortest route with 100+ cities\n",
    "- Take into account the time it takes\n",
    "\n",
    "- Instead of trying every single route, use a heuristic\n",
    "  - A heauistic might not give the best possible solution, but it will have a solution in a reasonable amount of time\n",
    "\n",
    "### Traveling Sales Problem: Nearest Neighbor\n",
    "\n",
    "![Traveling Salesperson](../../../images/nearest-neighbor.png)\n",
    "\n",
    "- In the traveling salesperson problem, traveling to the nearest neighbor will give a solution\n",
    "- It isn't the best solution but it is optimal and saves time.\n",
    "\n",
    "### Popcorn Hack 4\n",
    "\n",
    "![Traveling Salesperson](../../../images/ap-classroom.png)\n",
    "\n",
    "<button id=\"answer\">Answer</button>\n",
    "\n",
    "<script>\n",
    "    const answerButton = document.getElementById('answer')\n",
    "\n",
    "answerButton.addEventListener('click', (event) => {\n",
    "    answerButton.innerHTML = 'The correct answer is B because finding the best possible master schedule for a high school has to take into the constraints of teacher availability, school start and end time laws, all student course requests, etc. instead of finding a heuristic solution that is optimal and fast.'\n",
    "});\n",
    "</script>\n"
   ]
  },
  {
   "cell_type": "markdown",
   "metadata": {},
   "source": [
    "### Example Algorithm\n",
    "- This is an example algorithm using the nearest neighbor method for the Traveling Salesperson Problem"
   ]
  },
  {
   "cell_type": "code",
   "execution_count": 2,
   "metadata": {},
   "outputs": [
    {
     "name": "stdout",
     "output_type": "stream",
     "text": [
      "Optimal Path: (0, 2, 1, 3)\n",
      "Minimum Distance: 73\n"
     ]
    }
   ],
   "source": [
    "def nearest_neighbor_tsp(distances):\n",
    "    num_cities = len(distances)\n",
    "    unvisited_cities = list(range(num_cities))\n",
    "    tour = [unvisited_cities.pop(0)]  # Start with the first city\n",
    "\n",
    "    while unvisited_cities:\n",
    "        current_city = tour[-1]\n",
    "        nearest_city = min(unvisited_cities, key=lambda city: distances[current_city][city])\n",
    "        tour.append(nearest_city)\n",
    "        unvisited_cities.remove(nearest_city)\n",
    "\n",
    "    # Return to the starting city\n",
    "    tour.append(tour[0])\n",
    "\n",
    "    total_distance = sum(distances[tour[i]][tour[i + 1]] for i in range(num_cities))\n",
    "\n",
    "    return tour, total_distance\n",
    "\n",
    "# Example usage\n",
    "distances = [\n",
    "    [0, 29, 20, 21],\n",
    "    [29, 0, 15, 17],\n",
    "    [20, 15, 0, 28],\n",
    "    [21, 17, 28, 0]\n",
    "]\n",
    "\n",
    "optimal_tour, min_distance = nearest_neighbor_tsp(distances)\n",
    "print(\"Optimal Tour:\", optimal_tour)\n",
    "print(\"Total Distance:\", min_distance)\n"
   ]
  },
  {
   "cell_type": "markdown",
   "metadata": {},
   "source": [
    "# Homework Hacks\n",
    "\n",
    "1. Write an algorithm in python that uses a function to sort 4 numbers from lowest to highest. \n",
    "2. What are 3 benefits and 1 negative of using a simulation \n",
    "3. Think of social media platforms that you go on. What is an aspect of one of those platforms that uses an algorithm to improve their feature and usability?"
   ]
  },
  {
   "cell_type": "markdown",
   "metadata": {},
   "source": [
    "## "
   ]
  }
 ],
 "metadata": {
  "kernelspec": {
   "display_name": "Python 3 (ipykernel)",
   "language": "python",
   "name": "python3"
  },
  "language_info": {
   "codemirror_mode": {
    "name": "ipython",
    "version": 3
   },
   "file_extension": ".py",
   "mimetype": "text/x-python",
   "name": "python",
   "nbconvert_exporter": "python",
   "pygments_lexer": "ipython3",
   "version": "3.11.4"
  }
 },
 "nbformat": 4,
 "nbformat_minor": 4
}
