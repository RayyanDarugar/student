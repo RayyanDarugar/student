{
 "cells": [
  {
   "cell_type": "markdown",
   "metadata": {},
   "source": [
    "---\n",
    "toc: true\n",
    "comments: true\n",
    "layout: post\n",
    "title: Routing & Computing HW\n",
    "description: Routinng and  computing hw assignment\n",
    "type: hacks\n",
    "courses: { compsci: {week: 14} }\n",
    "---"
   ]
  },
  {
   "cell_type": "markdown",
   "metadata": {},
   "source": [
    "Question 1: What is parallel computing?: \n",
    "- parallel computing is using multiple processors or cores to execute one program at the same time, you do it for higher efficiency and faster runtime, as well as scalability. Its main cons are communicating and organizing through the multiple processors\n",
    "\n",
    "Question 2: If there is a computer with 3 cores that can each take one task, and the tasks are 25ms, 632ms and 100ms in run time respectively, how long will the program take to run?:\n",
    "- takes as long as the task with the longest time so 632ms\n",
    "\n",
    "Question 3: Is sequential or parallel computing more efficient, and why?:\n",
    "- parallel computing is more efficient as it splits larger tasks into smaller parts over multiple processors\n",
    "\n",
    "Question 4: What is the term called when a network has multiple paths leading up to one destination? (Used in fault-tolerant systems):\n",
    "- If a network has multiple paths to one destination its called redundant because there are more than one way to get to the same point, essential for when paths break or crash.\n",
    "\n",
    "Question 5: Using the image above, is this fault tolerant?:\n",
    "- Yes, the network shown is fault-tolerant and redundant - all letters can get to other letters with mutliple paths"
   ]
  }
 ],
 "metadata": {
  "language_info": {
   "name": "python"
  }
 },
 "nbformat": 4,
 "nbformat_minor": 2
}
