{
 "cells": [
  {
   "cell_type": "markdown",
   "metadata": {},
   "source": [
    "---\n",
    "title: Algorithms Homework Hack\n",
    "comments: true\n",
    "hide: true\n",
    "layout: post\n",
    "description: Homework Hack for In class presentation for Algorithms\n",
    "categories: [C7.0]\n",
    "courses: { compsci: {week: 6} }\n",
    "type: hacks\n",
    "---"
   ]
  },
  {
   "cell_type": "markdown",
   "metadata": {},
   "source": [
    "## Palindrome Checker Hack"
   ]
  },
  {
   "cell_type": "code",
   "execution_count": 4,
   "metadata": {},
   "outputs": [
    {
     "name": "stdout",
     "output_type": "stream",
     "text": [
      "tacocat is a palindrome.\n"
     ]
    }
   ],
   "source": [
    "def palindrome_check(input_string):\n",
    "    input_string = input_string.replace(\" \", \"\").lower()\n",
    "    \n",
    "    return input_string == input_string[::-1]\n",
    "\n",
    "user_input = input(\"Enter a string: \")\n",
    "if palindrome_check(user_input):\n",
    "    print(f\"{user_input} is a palindrome.\")\n",
    "else:\n",
    "    print(f\"{user_input} is not a palindrome.\")"
   ]
  },
  {
   "cell_type": "markdown",
   "metadata": {},
   "source": [
    "## Real World App: "
   ]
  },
  {
   "cell_type": "code",
   "execution_count": 5,
   "metadata": {},
   "outputs": [
    {
     "name": "stdout",
     "output_type": "stream",
     "text": [
      "Natthan is not on the list you poser\n"
     ]
    }
   ],
   "source": [
    "## Party Invite Tracker Using Lists and if statements\n",
    "\n",
    "party =[\"rayyan\", \"nathan\", \"aidan\", \"daniel\"]\n",
    "\n",
    "# def invite_check(input_string):\n",
    "#    input_string = input_string.replace(\" \", \"\").lower()\n",
    "    \n",
    "\n",
    "\n",
    "user_input = input(\"What is your name?\")\n",
    "if user_input.lower() in party:\n",
    "    print(f\"{user_input} is free to enter the party!\")\n",
    "else:\n",
    "    print(f\"{user_input} is not on the list you poser\")"
   ]
  }
 ],
 "metadata": {
  "kernelspec": {
   "display_name": "Python 3",
   "language": "python",
   "name": "python3"
  },
  "language_info": {
   "codemirror_mode": {
    "name": "ipython",
    "version": 3
   },
   "file_extension": ".py",
   "mimetype": "text/x-python",
   "name": "python",
   "nbconvert_exporter": "python",
   "pygments_lexer": "ipython3",
   "version": "3.11.4"
  },
  "orig_nbformat": 4
 },
 "nbformat": 4,
 "nbformat_minor": 2
}
