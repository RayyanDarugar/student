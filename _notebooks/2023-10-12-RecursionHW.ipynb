{
 "cells": [
  {
   "cell_type": "markdown",
   "metadata": {},
   "source": [
    "---\n",
    "title: Recursion Homework Hack\n",
    "comments: true\n",
    "hide: true\n",
    "layout: post\n",
    "description: Homework Hack for In class presentation for Recursion\n",
    "categories: [C7.0]\n",
    "courses: { compsci: {week: 8} }\n",
    "type: hacks\n",
    "---"
   ]
  },
  {
   "cell_type": "code",
   "execution_count": 7,
   "metadata": {},
   "outputs": [
    {
     "name": "stdout",
     "output_type": "stream",
     "text": [
      "1 is an odd number!\n",
      "2 is an even number!\n",
      "3 is an odd number!\n",
      "4 is an even number!\n",
      "5 is an odd number!\n",
      "6 is an even number!\n",
      "7 is an odd number!\n",
      "8 is an even number!\n",
      "9 is an odd number!\n",
      "10 is an even number!\n"
     ]
    }
   ],
   "source": [
    "from beepy import beep\n",
    "\n",
    "for i in range(1,11):\n",
    "    if(i%2==0):\n",
    "        print(f\"{i} is an even number!\")\n",
    "        beep(sound= 'ready' )\n",
    "    else:\n",
    "        print(f\"{i} is an odd number!\")\n",
    "        beep(sound= 'robot_error' )\n"
   ]
  },
  {
   "cell_type": "code",
   "execution_count": 18,
   "metadata": {},
   "outputs": [
    {
     "name": "stdout",
     "output_type": "stream",
     "text": [
      "['Qualcomm', 'Viasat', 'Gene Haas', 'Starbucks', 'n']\n",
      "b is not a sponsor of ours.\n"
     ]
    },
    {
     "ename": "TypeError",
     "evalue": "'list' object is not callable",
     "output_type": "error",
     "traceback": [
      "\u001b[0;31m---------------------------------------------------------------------------\u001b[0m",
      "\u001b[0;31mTypeError\u001b[0m                                 Traceback (most recent call last)",
      "\u001b[1;32m/Users/rayyandarugar/vscode/student/_notebooks/2023-10-12-RecursionHW.ipynb Cell 3\u001b[0m line \u001b[0;36m1\n\u001b[1;32m     <a href='vscode-notebook-cell:/Users/rayyandarugar/vscode/student/_notebooks/2023-10-12-RecursionHW.ipynb#W2sZmlsZQ%3D%3D?line=15'>16</a>\u001b[0m donatedMoney \u001b[39m=\u001b[39m [\u001b[39m2000\u001b[39m, \u001b[39m3000\u001b[39m, \u001b[39m2500\u001b[39m, \u001b[39m1500\u001b[39m]\n\u001b[1;32m     <a href='vscode-notebook-cell:/Users/rayyandarugar/vscode/student/_notebooks/2023-10-12-RecursionHW.ipynb#W2sZmlsZQ%3D%3D?line=17'>18</a>\u001b[0m \u001b[39mfor\u001b[39;00m i \u001b[39min\u001b[39;00m donatedMoney:\n\u001b[0;32m---> <a href='vscode-notebook-cell:/Users/rayyandarugar/vscode/student/_notebooks/2023-10-12-RecursionHW.ipynb#W2sZmlsZQ%3D%3D?line=18'>19</a>\u001b[0m     \u001b[39mprint\u001b[39m(donatedMoney(i))\n",
      "\u001b[0;31mTypeError\u001b[0m: 'list' object is not callable"
     ]
    }
   ],
   "source": [
    "sponsors = ['Qualcomm', 'Viasat', 'Gene Haas', 'Starbucks']\n",
    "\n",
    "newSponsor = input(\"Which new company is sponsoring us?\")\n",
    "\n",
    "sponsors.append(newSponsor)\n",
    "\n",
    "print(sponsors)\n",
    "\n",
    "currentSponsor = input(\"What sponsor do you want to check?\")\n",
    "\n",
    "if currentSponsor in sponsors:\n",
    "    print(currentSponsor + \" is one of our current sponsors!\")\n",
    "else:\n",
    "    print(currentSponsor + \" is not a sponsor of ours.\")\n",
    "    \n",
    "donatedMoney = [2000, 3000, 2500, 1500]\n",
    "\n",
    "for i in donatedMoney:\n",
    "    print(donatedMoney))"
   ]
  }
 ],
 "metadata": {
  "kernelspec": {
   "display_name": "Python 3",
   "language": "python",
   "name": "python3"
  },
  "language_info": {
   "codemirror_mode": {
    "name": "ipython",
    "version": 3
   },
   "file_extension": ".py",
   "mimetype": "text/x-python",
   "name": "python",
   "nbconvert_exporter": "python",
   "pygments_lexer": "ipython3",
   "version": "3.11.4"
  }
 },
 "nbformat": 4,
 "nbformat_minor": 2
}
