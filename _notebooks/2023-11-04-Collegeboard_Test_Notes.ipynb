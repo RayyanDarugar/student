{
 "cells": [
  {
   "cell_type": "markdown",
   "metadata": {},
   "source": [
    "---\n",
    "title: Collegeboard Notes AP Test\n",
    "comments: true\n",
    "hide: true\n",
    "layout: post\n",
    "description: Notes on the Collegeboard 2018 MC Test Assignment\n",
    "courses: { compsci: {week: 11} }\n",
    "type: hacks\n",
    "---"
   ]
  },
  {
   "cell_type": "markdown",
   "metadata": {},
   "source": [
    "## Notes on Collegeboard Questions from AP Classroom"
   ]
  },
  {
   "cell_type": "markdown",
   "metadata": {},
   "source": [
    "### Initial Overview\n",
    "\n",
    "- Requires lots of logic and mental gymnastics to solve majority of problems\n",
    "- Strong mix of word problems and coding problems\n",
    "- Easy to work with and complete with relevant knowledge\n",
    "- Broad coverage of outside tech knowledge (like of the IETF) and public encryption skills"
   ]
  },
  {
   "cell_type": "markdown",
   "metadata": {},
   "source": [
    "## PROBLEMS I NOTED\n",
    "\n",
    "### Example 1:\n",
    "\n",
    "<img src=\"{{site.baseurl}}/images/cbExample1.png\">\n",
    "\n",
    "- Big logic based question, tough because the wording wasn't very specific\n",
    "- Two options looked plausible to me - not affecting the number of messages per day and heavily lowering the size of messages per day\n",
    "- Interesting problem, not immidieately clear how it was computer science related, more stats based\n",
    "- Opened it up to me on how APCSP covers more than just coding\n",
    "\n",
    "### Example 2:\n",
    "\n",
    "<img src=\"{{site.baseurl}}/images/cbExample2.png\">\n",
    "\n",
    "- Also tough because it required some specific knowledge I didn't have\n",
    "- Had to look up if digital certificates and IP registration for every device was real\n",
    "\n",
    "### Example 3:\n",
    "\n",
    "<img src=\"{{site.baseurl}}/images/cbExample3.png\">\n",
    "\n",
    "- Required me to research redundant computer routing, after that it was just fun to analyze logically and find the one that only had one working pathway\n",
    "\n",
    "### Example 4:\n",
    "\n",
    "<img src=\"{{site.baseurl}}/images/cbExample4.png\">\n",
    "\n",
    "- This was a cool problem, needed to learn basic computer encoding\n",
    "- Learned about lossless vs lossy encoding algorithms\n",
    "- Learned that it's only useful to byte pair encode when the byte specifically repeats multiple times\n",
    "\n",
    "### Example 5:\n",
    "\n",
    "<img src=\"{{site.baseurl}}/images/cbExample5.png\">\n",
    "\n",
    "- This one was definitely hard to understand\n",
    "- Pseudo format AND and OR statements I referenced in the guide they gave\n",
    "- Generally learned difference between needing only one to be true for the whole statement to output true vs needing both to be true to output true\n",
    "\n",
    "### Example 6:\n",
    "\n",
    "<img src=\"{{site.baseurl}}/images/cbExample6.png\">\n",
    "\n",
    "- This one was expressely hard to wrap my head around logic wise\n",
    "- Interesting to analyze the flowchart, kind of just one big if function displayed visually"
   ]
  }
 ],
 "metadata": {
  "kernelspec": {
   "display_name": "Python 3",
   "language": "python",
   "name": "python3"
  },
  "language_info": {
   "name": "python",
   "version": "3.11.4"
  }
 },
 "nbformat": 4,
 "nbformat_minor": 2
}
