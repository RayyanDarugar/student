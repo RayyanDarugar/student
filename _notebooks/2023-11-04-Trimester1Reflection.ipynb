{
 "cells": [
  {
   "cell_type": "markdown",
   "metadata": {},
   "source": [
    "---\n",
    "title: Trimester 1 Reflection\n",
    "comments: true\n",
    "hide: true\n",
    "layout: post\n",
    "description: Reflection on everything I've learned and completed over Tri 1\n",
    "courses: { compsci: {week: 11} }\n",
    "type: hacks\n",
    "---"
   ]
  },
  {
   "cell_type": "markdown",
   "metadata": {},
   "source": [
    "## Weeks 0-3 (Setup and Startup)\n",
    "\n",
    "- The beginning of the trimester for me was fast-paced, error-ridden, confusing as heck, and super fun. From since I was in elementary school learning Scratch and Khan Academy javascript to today, I've loved coding (or at least the idea of it) but \"never had the time to start learning\". This class helped me from the start to reject that, and in the first 3 weeks I learned not only how to set up my machine to use vscode and ruby and homebrew, but also how to deploy working, visible Github Pages websites. This gave me the tools I've needed to work on my own projects and ideas, and since then I've been working on a project of my own to develop a social network connecting America's club owners. The setup process was the first step I needed to work on my skills as a coder.\n",
    "- I learned specific skills like downloading libraries and packages to run code, makefiles, displaying Python through Jupyter without JS, and much more.\n",
    "\n",
    "## Weeks 4-7 (Web Basics and Initial Project Dev)\n",
    "\n",
    "- After I got the basics of coding down, this was where we started to learn about javascript/HTML code. We specifically moved into the Nav Basics and HTML basics lessons.\n",
    "- I really liked the idea of integrating every lesson in the group into one project instead of just doing the hacks individually, so I started working on an animated timer that could function as my wirefram as well as solve all the other hacks\n",
    "- I learned CSS Integration as well as javascript to html integration which was super cool\n",
    "- I learned how to make objects using user input data\n",
    "- I also created on my own time a PDF Extractor that would split up a document based on its body text vs its header text, which I used for creating a spreadsheet for DECA PI's\n",
    "- This was a really fun but tiring period as I spent many nights learning coding and integration, but I got the chance to do dev outside of APCSP\n",
    "\n",
    "## Weeks 8-12 (Passion Project Time!)\n",
    "\n",
    "- The past few weeks have been kind of a rollercoaster of work. It started off fast, with team scrumming and coming up with a plan for both our student taught lesson and our project. We began with the idea of a skincare google chrome extension with the purpose of logging time you spent shopping for skincare and finding you deals. We spent a lot of time planning this and making designs for it but later we decided the idea kind of sucked and went back to the drawing board. From that point on it was much more of a rush as we had two to three weeks left to do the entire project. We settled on making a scheduling app and re-split up roles. I learned a lot about managing a team of coders as well as coding for myself, integrating backend API's with frontend code and making HTML pages with strong function.\n",
    "- I learned about algorithms and algorithmic efficiency through the collegeboard student lesson we taught, as well as several other APCSP necessary knowledge from everyone else's lessons. \n",
    "\n",
    "## Overall Reflection\n",
    "\n",
    "- Overall, this trimester gave me the tools I needed to take advantage of my entreprenuerial mind. I'm always going from here to there with ideas on making ebook readers or social networks or AI based programs or any other number of fun yet unreasonable projects. Finally, I have the ability to actually test them and put them to life, as I'm doing with 2 out of school projects right now. I'm excited for the upcoming trimester and can't wait to learn more CSP to put to use."
   ]
  }
 ],
 "metadata": {
  "kernelspec": {
   "display_name": "Python 3",
   "language": "python",
   "name": "python3"
  },
  "language_info": {
   "name": "python",
   "version": "3.11.4"
  }
 },
 "nbformat": 4,
 "nbformat_minor": 2
}
