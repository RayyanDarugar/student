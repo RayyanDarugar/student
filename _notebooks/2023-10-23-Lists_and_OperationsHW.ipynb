{
 "cells": [
  {
   "cell_type": "markdown",
   "metadata": {},
   "source": [
    "---\n",
    "title: Lists and Operations Homework Hack\n",
    "comments: true\n",
    "hide: true\n",
    "layout: post\n",
    "description: Homework Hack for In class presentation for Lists and Operations\n",
    "courses: { compsci: {week: 10} } \n",
    "type: hacks\n",
    "---"
   ]
  },
  {
   "cell_type": "markdown",
   "metadata": {},
   "source": [
    "## HW HACK 1 "
   ]
  },
  {
   "cell_type": "code",
   "execution_count": 8,
   "metadata": {},
   "outputs": [
    {
     "name": "stdout",
     "output_type": "stream",
     "text": [
      "The sum of the first and last values in your list is 6\n",
      "Your list reversed is [5, 4, 3, 2, 1]\n",
      "The position of number 3 in your list is 3\n"
     ]
    }
   ],
   "source": [
    "# Define a basic list\n",
    "my_list = [1, 2, 3, 4, 5]\n",
    "\n",
    "#Sum of the first and last elements in the list using list procedures\n",
    "sum = my_list[0] + my_list[-1]\n",
    "\n",
    "# Reverse the list\n",
    "reversed_list = my_list[::-1]\n",
    "\n",
    "# Get the index of the value 3 in the reversed list\n",
    "index3 = reversed_list.index(3)\n",
    "\n",
    "# Print the results\n",
    "print(f\"The sum of the first and last values in your list is {sum}\")\n",
    "print(f\"Your list reversed is {reversed_list}\")\n",
    "print(f\"The position of number 3 in your list is {index3+1}\")"
   ]
  },
  {
   "cell_type": "markdown",
   "metadata": {},
   "source": [
    "## HW HACK 2"
   ]
  },
  {
   "cell_type": "code",
   "execution_count": 9,
   "metadata": {},
   "outputs": [
    {
     "name": "stdout",
     "output_type": "stream",
     "text": [
      "5\n"
     ]
    }
   ],
   "source": [
    "import math\n",
    "# define a python func to determine worst case iterations for an array of len 20\n",
    "\n",
    "def worstIterations(array_length):\n",
    "    return int(math.ceil(math.log2(array_length)))\n",
    "\n",
    "array_length = 20\n",
    "\n",
    "worstCase = worstIterations(array_length)\n",
    "\n",
    "print(worstCase)"
   ]
  },
  {
   "cell_type": "markdown",
   "metadata": {},
   "source": [
    "## HW Question 3"
   ]
  },
  {
   "cell_type": "markdown",
   "metadata": {},
   "source": [
    "The answer is A as you are multiplying every integer in the list [10,20,30,40,50] by 2"
   ]
  }
 ],
 "metadata": {
  "kernelspec": {
   "display_name": "Python 3",
   "language": "python",
   "name": "python3"
  },
  "language_info": {
   "codemirror_mode": {
    "name": "ipython",
    "version": 3
   },
   "file_extension": ".py",
   "mimetype": "text/x-python",
   "name": "python",
   "nbconvert_exporter": "python",
   "pygments_lexer": "ipython3",
   "version": "3.11.4"
  }
 },
 "nbformat": 4,
 "nbformat_minor": 2
}
