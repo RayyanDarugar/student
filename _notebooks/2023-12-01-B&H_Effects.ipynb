{
 "cells": [
  {
   "cell_type": "markdown",
   "metadata": {},
   "source": [
    "---\n",
    "toc: true\n",
    "comments: false\n",
    "layout: post\n",
    "title: CB Big Idea 5.1 - Beneficial & Harmful Effects Student Lesson\n",
    "description: Student Lesson Presented by Team WRONG on Collegeboard Big Idea 5.1\n",
    "type: tangibles\n",
    "courses: { compsci: {week: 14} }\n",
    "---"
   ]
  },
  {
   "cell_type": "markdown",
   "metadata": {},
   "source": [
    "# CB Big Idea 5.1 Beneficial & Harmful Effects Student Lesson\n",
    "\n",
    "## Artificial Intelligence and Machine Learning\n",
    "\n",
    "> Artifical Intelligence is the ability of a computer or robot to perform tasks usually associated with human intelletual processes. Put simply, that means a computer with the ability to think and reason through problems (or at least have the semblance of reasoning). Today's most famous AI models - such as GPT-3.5, DALL-E, or Bard - are all LLMs (large lanuage models). An LLM works by using deep learning to perform natural language processing tasks on huge datasets. This allows them to mimic human intelligence at high speeds, making AI incredibly useful yet also incredibly threatening to human society.\n",
    "\n",
    "- AI can:\n",
    "    - Create pictures\n",
    "    - Write essays\n",
    "    - Make functional code\n",
    "    - And much, much, more\n",
    "- AI development is currently at its fastest pace, especially with OpenAI's GPTs release just a few weeks ago, and AI tools to help your life anywhere from summarizing lectures to planning your outfits are now all over the internet\n",
    "\n",
    "\n",
    "## Benefits and Negatives\n",
    "\n",
    "> Because of AI's immense capabilities, many worry the loss to human society will be greater than the gains it brings us.\n",
    "\n",
    "- BENEFITS:\n",
    "    - Increased Efficiency and Innovation:\n",
    "        - LLMs can automate tasks across various industries, freeing up human resources for more strategic and creative endeavors. This automation fosters innovation and accelerates productivity, contributing to overall economic growth. This means that human businesses can grow on a huge scale and people can accomplish more with less workers, allowing many projects to be completed effectively.\n",
    "    - Global Communication and Language Translation:\n",
    "        - Since LLMs are great at language translation, they're able to break down language barriers and strengthen communication on a global scale. This promotes international understanding, collaboration, and the exchange of ideas, fostering a more interconnected and globally aware society. Learning languages is made easier, as well as using them, allowing for a better global future.\n",
    "\n",
    "- HARMFUL EFFECTS:\n",
    "    - Job Displacement and Economic Inequality:\n",
    "        - While LLMs enhance efficiency, they likely will lead to major job displacement in sectors where routine language tasks are automated. For example, in the recent writers strike, one of the key points they agreed on was that AI could not be allowed to write scripts for movies. AI can contribute to economic inequality and require a shift in workforce skills. It's essential we address these challenges and if we continue developing AI, we educate and retrain ourselves to work on better jobs\n",
    "    - Privacy and Security Concerns:\n",
    "        - LLMs often require vast amounts of data for training, raising concerns about privacy. Inappropriately handled data may compromise individual privacy, leading to potential misuse or unauthorized access. The data we put into it is a big concern as well, due to the fact that AI only determines its thoughts by the information we feed it. If we feed it a source with lots of bias - like for example all of reddit - the responses we get back will be harmful and often socially unacceptable. \n"
   ]
  }
 ],
 "metadata": {
  "language_info": {
   "name": "python"
  }
 },
 "nbformat": 4,
 "nbformat_minor": 2
}
