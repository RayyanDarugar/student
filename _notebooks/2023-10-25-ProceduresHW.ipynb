{
 "cells": [
  {
   "cell_type": "markdown",
   "metadata": {},
   "source": [
    "---\n",
    "title: Procedures HW\n",
    "comments: true\n",
    "hide: true\n",
    "layout: post\n",
    "description: Homework Hack for In class presentation for Procedures\n",
    "courses: { compsci: {week: 10} } \n",
    "type: hacks\n",
    "---"
   ]
  },
  {
   "cell_type": "markdown",
   "metadata": {},
   "source": [
    "## HW HACK 1"
   ]
  },
  {
   "cell_type": "code",
   "execution_count": 1,
   "metadata": {},
   "outputs": [
    {
     "name": "stdout",
     "output_type": "stream",
     "text": [
      "Average of numbers: 36.00\n"
     ]
    }
   ],
   "source": [
    "def procedural_abstraction(numbers):\n",
    "    # Calculates the sum of numbers\n",
    "    total = 0\n",
    "    for num in numbers:\n",
    "        total += num\n",
    "    \n",
    "    # Calculate the average\n",
    "    if len(numbers) > 0:\n",
    "        average = total / len(numbers)\n",
    "    else:\n",
    "        average = 0\n",
    "    \n",
    "    return average\n",
    "\n",
    "# Example usage of the procedural_abstraction function\n",
    "numbers_list = [12, 24, 36, 48, 60]\n",
    "result = procedural_abstraction(numbers_list)\n",
    "print(f\"Average of numbers: {result:.2f}\")"
   ]
  },
  {
   "cell_type": "markdown",
   "metadata": {},
   "source": [
    "## HW HACK 2"
   ]
  },
  {
   "cell_type": "code",
   "execution_count": 3,
   "metadata": {},
   "outputs": [
    {
     "name": "stdout",
     "output_type": "stream",
     "text": [
      "Sum of 5 and 7 = 12\n"
     ]
    }
   ],
   "source": [
    "def sum_two_numbers(first_number, second_number):\n",
    "    total = first_number + second_number\n",
    "    return total\n",
    "\n",
    "# Example usage of the sum_two_numbers function\n",
    "num1 = 5\n",
    "num2 = 7\n",
    "result = sum_two_numbers(num1, num2)\n",
    "print(f\"Sum of {num1} and {num2} = {result}\")"
   ]
  }
 ],
 "metadata": {
  "kernelspec": {
   "display_name": "Python 3",
   "language": "python",
   "name": "python3"
  },
  "language_info": {
   "codemirror_mode": {
    "name": "ipython",
    "version": 3
   },
   "file_extension": ".py",
   "mimetype": "text/x-python",
   "name": "python",
   "nbconvert_exporter": "python",
   "pygments_lexer": "ipython3",
   "version": "3.11.4"
  }
 },
 "nbformat": 4,
 "nbformat_minor": 2
}
