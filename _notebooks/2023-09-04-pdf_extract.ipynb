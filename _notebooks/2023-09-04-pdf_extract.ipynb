{
 "cells": [
  {
   "cell_type": "markdown",
   "metadata": {},
   "source": [
    "---\n",
    "layout: post\n",
    "title: PDF Text Splitter\n",
    "toc: true\n",
    "description: I developed a text splitter for pdfs converted to html so I could extract data without manually copy-pasting it.\n",
    "courses: { compsci: {week: 3, categories: [3.A, 5.B]} }\n",
    "categories: [C3.0, C3.1, C4.1]\n",
    "type: hacks\n",
    "---"
   ]
  },
  {
   "cell_type": "markdown",
   "metadata": {},
   "source": [
    "## Website to turn PDF into HTML"
   ]
  },
  {
   "cell_type": "markdown",
   "metadata": {},
   "source": [
    "https://cloudconvert.com/pdf-to-html"
   ]
  },
  {
   "cell_type": "markdown",
   "metadata": {},
   "source": [
    "## Coding the HTML Splitter"
   ]
  },
  {
   "cell_type": "code",
   "execution_count": null,
   "metadata": {},
   "outputs": [],
   "source": [
    "html = open(\"pis.html\").read()"
   ]
  },
  {
   "cell_type": "markdown",
   "metadata": {},
   "source": [
    "## Removing all Useless HTML Data from file"
   ]
  },
  {
   "cell_type": "code",
   "execution_count": null,
   "metadata": {},
   "outputs": [],
   "source": [
    "divs = html.split(\"<div\")\n",
    "divs[20]"
   ]
  },
  {
   "cell_type": "markdown",
   "metadata": {},
   "source": [
    "## Splitting HTML Data into Bold Text (in this case PIs) and Plaintext (in this case the Definitions)"
   ]
  },
  {
   "cell_type": "code",
   "execution_count": null,
   "metadata": {},
   "outputs": [],
   "source": [
    "import re\n",
    "import csv\n",
    "\n",
    "pattern = r'<span.*?>|</span>'\n",
    "\n",
    "pi = \"\"\n",
    "section = \"\"\n",
    "lines = []\n",
    "\n",
    "csvwriter = csv.writer(open(\"pis.csv\",\"w\"))\n",
    "\n",
    "# \n",
    "\n",
    "for div in divs:\n",
    "    cl, txt = div.split(\">\",1)[:2]\n",
    "    txt = re.sub(pattern, '', txt)\n",
    "    txt = txt.split(\"<\")[0]\n",
    "    if \" h4 \" in cl:\n",
    "        # print(f\"TEXT:{txt}\")\n",
    "        lines.append(txt)\n",
    "    elif \" h3 \" in cl:\n",
    "        if lines:\n",
    "            print(f\"PI:{pi}\")\n",
    "            print(\" \".join(lines))\n",
    "            print(\"\\n\")\n",
    "            csvwriter.writerow([section, \"\", \"\", pi, \" \".join(lines)])\n",
    "            pi = txt\n",
    "            lines = []\n",
    "        else:\n",
    "            pi = pi + \" \" + txt\n",
    "        # print(f\"PI:{txt}\")\n",
    "    elif \" h5 \" in cl:\n",
    "        section = txt\n",
    "\n",
    "        \n",
    "csvwriter = None"
   ]
  }
 ],
 "metadata": {
  "kernelspec": {
   "display_name": "Python 3",
   "language": "python",
   "name": "python3"
  },
  "language_info": {
   "codemirror_mode": {
    "name": "ipython",
    "version": 3
   },
   "file_extension": ".py",
   "mimetype": "text/x-python",
   "name": "python",
   "nbconvert_exporter": "python",
   "pygments_lexer": "ipython3",
   "version": "3.10.12"
  },
  "orig_nbformat": 4
 },
 "nbformat": 4,
 "nbformat_minor": 2
}
