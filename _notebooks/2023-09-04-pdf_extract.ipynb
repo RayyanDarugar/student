{
 "cells": [
  {
   "cell_type": "markdown",
   "metadata": {},
   "source": [
    "---\n",
    "layout: post\n",
    "comments: true\n",
    "title: PDF Text Splitter\n",
    "toc: true\n",
    "description: I developed a text splitter for pdfs converted to html so I could extract data without manually copy-pasting it.\n",
    "courses: { compsci: {week: 3, categories: [3.A, 5.B]} }\n",
    "categories: [C3.0, C3.1, C4.1]\n",
    "type: hacks\n",
    "---"
   ]
  },
  {
   "cell_type": "markdown",
   "metadata": {},
   "source": [
    "## Website to turn PDF into HTML"
   ]
  },
  {
   "cell_type": "markdown",
   "metadata": {},
   "source": [
    "https://cloudconvert.com/pdf-to-html"
   ]
  },
  {
   "cell_type": "markdown",
   "metadata": {},
   "source": [
    "## Coding the HTML Splitter"
   ]
  },
  {
   "cell_type": "code",
   "execution_count": null,
   "metadata": {},
   "outputs": [],
   "source": [
    "html = open(\"pis.html\").read()"
   ]
  },
  {
   "cell_type": "markdown",
   "metadata": {},
   "source": [
    "# Removing all Useless HTML Data from file"
   ]
  },
  {
   "cell_type": "code",
   "execution_count": null,
   "metadata": {},
   "outputs": [],
   "source": [
    "divs = html.split(\"<div\")\n",
    "divs[20]"
   ]
  },
  {
   "cell_type": "markdown",
   "metadata": {},
   "source": [
    "# Splitting HTML Data into Bold Text (in this case PIs) and Plaintext (in this case the Definitions)\n",
    "\n",
    "NOTE: Chat GPT was used to teach me how to create this code via reviewing it and instructing me on how Regular Expressions work. (key to cleaning up the cluttered HTML data)"
   ]
  },
  {
   "cell_type": "code",
   "execution_count": null,
   "metadata": {},
   "outputs": [],
   "source": [
    "import re\n",
    "import csv\n",
    "\n",
    "pattern = r'<span.*?>|</span>'\n",
    "\n",
    "pi = \"\"\n",
    "section = \"\"\n",
    "lines = []\n",
    "\n",
    "csvwriter = csv.writer(open(\"pis.csv\",\"w\"))\n",
    "\n",
    "# \n",
    "\n",
    "for div in divs:\n",
    "    cl, txt = div.split(\">\",1)[:2]\n",
    "    txt = re.sub(pattern, '', txt)\n",
    "    txt = txt.split(\"<\")[0]\n",
    "    if \" h4 \" in cl:\n",
    "        # print(f\"TEXT:{txt}\")\n",
    "        lines.append(txt)\n",
    "    elif \" h3 \" in cl:\n",
    "        if lines:\n",
    "            print(f\"PI:{pi}\")\n",
    "            print(\" \".join(lines))\n",
    "            print(\"\\n\")\n",
    "            csvwriter.writerow([section, \"\", \"\", pi, \" \".join(lines)])\n",
    "            pi = txt\n",
    "            lines = []\n",
    "        else:\n",
    "            pi = pi + \" \" + txt\n",
    "        # print(f\"PI:{txt}\")\n",
    "    elif \" h5 \" in cl:\n",
    "        section = txt\n",
    "\n",
    "        \n",
    "csvwriter = None"
   ]
  },
  {
   "cell_type": "markdown",
   "metadata": {},
   "source": [
    "# Hacks Showcases From All Previous Lessons\n",
    "\n",
    "Here I showcase JS Tables, Python Emojis, Make use of Linux and show all completed coding prerequisites, and throughout the rest of this code I demonstrate python knowledge, webpage integration, and HTML management. I've also added a comment section with a breakdown of how I developed the tool."
   ]
  },
  {
   "cell_type": "code",
   "execution_count": 5,
   "metadata": {
    "vscode": {
     "languageId": "html"
    }
   },
   "outputs": [
    {
     "data": {
      "text/html": [
       "\n",
       "<h2>PI Data Table Draft</h2>\n",
       "\n",
       "<!-- Body contains the contents of the Document -->\n",
       "<body>\n",
       "    <table class=\"table\">\n",
       "        <thead>\n",
       "            <tr>\n",
       "                <th>Section</th>\n",
       "                <th>Performance Indicator</th>\n",
       "                <th>Definition</th>\n",
       "            </tr>\n",
       "        </thead>\n",
       "        <tbody>\n",
       "            <tr>\n",
       "                <td>Business Law</td>\n",
       "                <td>Describe the United States judicial system</td>\n",
       "                <td>The judicial branch of the federal government interprets, applies, and administers the laws of the US. It is  a network of courts at all levels  of government. Federal courts include district courts, federal courts of appeals, and the U.S.  Supreme Court. The state court system also includes a state Supreme Court, associate circuit courts, city or municipal courts, small claims courts,  juvenile courts, and probate courts.</td>\n",
       "            </tr>\n",
       "            <tr>\n",
       "                <td>Business Law</td>\n",
       "                <td>Determine the relationship between government and business</td>\n",
       "                <td>The government serves as both a protector and a regulator of business in a free market economy. It serves to protect business property, enforce  contracts and settle disagreements through the courts, and collect taxes on the products businesses sell. As a regulator, the government enacts  and enforces laws to prohibit certain behaviors, control business activities, and require certain standards. Examples of such laws include laws to control monopolies, set product safety standards, and regulate prices</td>\n",
       "            </tr>\n",
       "            <tr>\n",
       "                <td>Business Law</td>\n",
       "                <td>Explain unfair labor practices</td>\n",
       "                <td>Actions taken by employers or unions that are illegal under the National Labor Relations Act (NLRA) and other labor laws. (Unfair treatment because of race, religion, gender, etc.)</td>\n",
       "            </tr>\n",
       "            <tr>\n",
       "                <td>Entreprenuership</td>\n",
       "                <td>What is the nature and scope of entrepreneurship</td>\n",
       "                <td>Entrepreneurship is a self-motivated activity, which helps the entrepreneur to bring changes in the process of production, innovation in  production, new usage of materials, creator of market etc. It is a mental attitude to foresee risk and uncertainty and do something new in  an effective manner to achieve certain goals.</td>\n",
       "            </tr>\n",
       "        </tbody>\n",
       "    </table>\n",
       "</body>\n"
      ],
      "text/plain": [
       "<IPython.core.display.HTML object>"
      ]
     },
     "metadata": {},
     "output_type": "display_data"
    }
   ],
   "source": [
    "%%html\n",
    "\n",
    "<h3>PI Data Table Draft</h3>\n",
    "\n",
    "<!-- Body contains the contents of the Document -->\n",
    "<body>\n",
    "    <table class=\"table\">\n",
    "        <thead>\n",
    "            <tr>\n",
    "                <th>Section</th>\n",
    "                <th>Performance Indicator</th>\n",
    "                <th>Definition</th>\n",
    "            </tr>\n",
    "        </thead>\n",
    "        <tbody>\n",
    "            <tr>\n",
    "                <td>Business Law</td>\n",
    "                <td>Describe the United States judicial system</td>\n",
    "                <td>The judicial branch of the federal government interprets, applies, and administers the laws of the US. It is  a network of courts at all levels  of government. Federal courts include district courts, federal courts of appeals, and the U.S.  Supreme Court. The state court system also includes a state Supreme Court, associate circuit courts, city or municipal courts, small claims courts,  juvenile courts, and probate courts.</td>\n",
    "            </tr>\n",
    "            <tr>\n",
    "                <td>Business Law</td>\n",
    "                <td>Determine the relationship between government and business</td>\n",
    "                <td>The government serves as both a protector and a regulator of business in a free market economy. It serves to protect business property, enforce  contracts and settle disagreements through the courts, and collect taxes on the products businesses sell. As a regulator, the government enacts  and enforces laws to prohibit certain behaviors, control business activities, and require certain standards. Examples of such laws include laws to control monopolies, set product safety standards, and regulate prices</td>\n",
    "            </tr>\n",
    "            <tr>\n",
    "                <td>Business Law</td>\n",
    "                <td>Explain unfair labor practices</td>\n",
    "                <td>Actions taken by employers or unions that are illegal under the National Labor Relations Act (NLRA) and other labor laws. (Unfair treatment because of race, religion, gender, etc.)</td>\n",
    "            </tr>\n",
    "            <tr>\n",
    "                <td>Entreprenuership</td>\n",
    "                <td>What is the nature and scope of entrepreneurship</td>\n",
    "                <td>Entrepreneurship is a self-motivated activity, which helps the entrepreneur to bring changes in the process of production, innovation in  production, new usage of materials, creator of market etc. It is a mental attitude to foresee risk and uncertainty and do something new in  an effective manner to achieve certain goals.</td>\n",
    "            </tr>\n",
    "        </tbody>\n",
    "    </table>\n",
    "</body>"
   ]
  },
  {
   "cell_type": "markdown",
   "metadata": {},
   "source": [
    "# Showcase of Python Tricks with Emojis"
   ]
  },
  {
   "cell_type": "code",
   "execution_count": 9,
   "metadata": {},
   "outputs": [
    {
     "name": "stdout",
     "output_type": "stream",
     "text": [
      "DECA is an International Business Education organization 💰\n",
      "PI's, or Performance Indicators, are ways that students are judged in competition and graded. 🗣️ \n"
     ]
    }
   ],
   "source": [
    "import emoji\n",
    "print(emoji.emojize(\"DECA is an International Business Education organization :money_bag:\"))\n",
    "print(emoji.emojize(\"PI's, or Performance Indicators, are ways that students are judged in competition and graded. :speaking_head: \"))"
   ]
  },
  {
   "cell_type": "markdown",
   "metadata": {},
   "source": [
    "# Defining DECA via Wikipedia"
   ]
  },
  {
   "cell_type": "code",
   "execution_count": 11,
   "metadata": {},
   "outputs": [
    {
     "name": "stdout",
     "output_type": "stream",
     "text": [
      "DECA(organization)\n"
     ]
    },
    {
     "data": {
      "text/markdown": [
       "DECA Inc., formerly Distributive Education Clubs of America, is a 501(c)(3) not-for-profit career and technical student organization (CTSO) with more than 224,000 members in all 50 U.S. states, Washington, DC; Canada, China, Germany, Poland, Guam, Mexico, Puerto Rico and Spain. The United States Congress, the United States Department of Education and state, district and international departments of education authorize DECA's programs.\n",
       "DECA is organized into two unique student divisions each with programs designed to address the learning styles, interests, and focus of its members. The High School Division includes over 173,000 members in 3,200 schools. The Collegiate Division (formerly Delta Epsilon Chi) includes over 4,000 members in 200+ colleges and universities.The organization's mission statement is as follows:\n",
       "\n",
       "DECA prepares emerging leaders and entrepreneurs in marketing, finance, hospitality and management in high schools and colleges around the globe. The four components of the organization's Comprehensive Learning Program are that DECA integrates into classroom instruction, applies learning, connects to business, and promotes competition. DECA prepares the next generation to be academically prepared, community-oriented, professionally responsible, experienced leaders.Dr. Ed Davis served as executive director from 1992 to 2014. Paul Wardinski served as executive director from 2014 to 2018. Lou DiGiola served as the executive director in 2018. Nicole Rodrigues formerly served as president. Frank Peterson is currently serving as the executive director since 2020. Lori Hairston is currently serving as president."
      ],
      "text/plain": [
       "<IPython.core.display.Markdown object>"
      ]
     },
     "metadata": {},
     "output_type": "display_data"
    },
    {
     "name": "stdout",
     "output_type": "stream",
     "text": [
      "Performance Indicator\n"
     ]
    },
    {
     "data": {
      "text/markdown": [
       "A performance indicator or key performance indicator (KPI) is a type of performance measurement. KPIs evaluate the success of an organization or of a particular activity (such as projects, programs, products and other initiatives) in which it engages. KPIs provide a focus for strategic and operational improvement, create an analytical basis for decision making and help focus attention on what matters most.Often success is simply the repeated, periodic achievement of some levels of operational goal (e.g. zero defects, 10/10 customer satisfaction), and sometimes success is defined in terms of making progress toward strategic goals. Accordingly, choosing the right KPIs relies upon a good understanding of what is important to the organization. What is deemed important often depends on the department measuring the performance – e.g. the KPIs useful to finance will differ from the KPIs assigned to sales.\n",
       "Since there is a need to understand well what is important, various techniques to assess the present state of the business, and its key activities, are associated with the selection of performance indicators. These assessments often lead to the identification of potential improvements, so performance indicators are routinely associated with 'performance improvement' initiatives. A very common way to choose KPIs is to apply a management framework such as the balanced scorecard.\n",
       "The importance of such performance indicators is evident in the typical decision-making process (e.g. in management of organisations). When a decision-maker considers several options, they must be equipped to properly analyse the status quo to predict the consequences of future actions. Should they make their analysis on the basis of faulty or incomplete information, the predictions will not be reliable and consequently the decision made might yield an unexpected result. Therefore, the proper usage of performance indicators is vital to avoid such mistakes and minimise the risk.\n",
       "\n"
      ],
      "text/plain": [
       "<IPython.core.display.Markdown object>"
      ]
     },
     "metadata": {},
     "output_type": "display_data"
    }
   ],
   "source": [
    "import wikipedia \n",
    "from IPython.display import display, Markdown # add for Jupyter\n",
    "\n",
    "terms = [\"DECA(organization)\", \"Performance Indicator\"]\n",
    "for term in terms:\n",
    "    # Search for a page \n",
    "    result = wikipedia.search(term)\n",
    "    # Get the summary of the first result\n",
    "    summary = wikipedia.summary(result[0])\n",
    "    print(term) \n",
    "    # print(summary) # console display\n",
    "    display(Markdown(summary)) # Jupyter display"
   ]
  },
  {
   "cell_type": "markdown",
   "metadata": {},
   "source": [
    "# Understanding how the Wikipedia Summarize Function works"
   ]
  },
  {
   "cell_type": "code",
   "execution_count": 13,
   "metadata": {},
   "outputs": [
    {
     "name": "stdout",
     "output_type": "stream",
     "text": [
      "@cache\n",
      "def summary(title, sentences=0, chars=0, auto_suggest=True, redirect=True):\n",
      "  '''\n",
      "  Plain text summary of the page.\n",
      "\n",
      "  .. note:: This is a convenience wrapper - auto_suggest and redirect are enabled by default\n",
      "\n",
      "  Keyword arguments:\n",
      "\n",
      "  * sentences - if set, return the first `sentences` sentences (can be no greater than 10).\n",
      "  * chars - if set, return only the first `chars` characters (actual text returned may be slightly longer).\n",
      "  * auto_suggest - let Wikipedia find a valid page title for the query\n",
      "  * redirect - allow redirection without raising RedirectError\n",
      "  '''\n",
      "\n",
      "  # use auto_suggest and redirect to get the correct article\n",
      "  # also, use page's error checking to raise DisambiguationError if necessary\n",
      "  page_info = page(title, auto_suggest=auto_suggest, redirect=redirect)\n",
      "  title = page_info.title\n",
      "  pageid = page_info.pageid\n",
      "\n",
      "  query_params = {\n",
      "    'prop': 'extracts',\n",
      "    'explaintext': '',\n",
      "    'titles': title\n",
      "  }\n",
      "\n",
      "  if sentences:\n",
      "    query_params['exsentences'] = sentences\n",
      "  elif chars:\n",
      "    query_params['exchars'] = chars\n",
      "  else:\n",
      "    query_params['exintro'] = ''\n",
      "\n",
      "  request = _wiki_request(query_params)\n",
      "  summary = request['query']['pages'][pageid]['extract']\n",
      "\n",
      "  return summary\n",
      "\n"
     ]
    }
   ],
   "source": [
    "import inspect \n",
    "from wikipedia import summary\n",
    "print(inspect.getsource(summary))"
   ]
  }
 ],
 "metadata": {
  "kernelspec": {
   "display_name": "Python 3",
   "language": "python",
   "name": "python3"
  },
  "language_info": {
   "codemirror_mode": {
    "name": "ipython",
    "version": 3
   },
   "file_extension": ".py",
   "mimetype": "text/x-python",
   "name": "python",
   "nbconvert_exporter": "python",
   "pygments_lexer": "ipython3",
   "version": "3.11.2"
  },
  "orig_nbformat": 4
 },
 "nbformat": 4,
 "nbformat_minor": 2
}
