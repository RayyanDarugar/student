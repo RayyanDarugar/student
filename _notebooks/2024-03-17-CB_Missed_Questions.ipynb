{
 "cells": [
  {
   "cell_type": "markdown",
   "metadata": {},
   "source": [
    "---\n",
    "toc: true\n",
    "comments: true\n",
    "layout: post\n",
    "title: Collegeboard MC 2020 Review\n",
    "description: Review blogpost for the Collegeboard 2020 MC, goes over question corrections and how I studied to take it\n",
    "type: tangibles\n",
    "courses: { compsci: {week: 28} }\n",
    "---"
   ]
  },
  {
   "cell_type": "markdown",
   "metadata": {},
   "source": [
    "## My Score and Corrections\n",
    "\n",
    "### Score I got: 65/70\n",
    "\n",
    "## Corrections:\n",
    "\n",
    "### Question 4\n",
    "Question: \n",
    "[![Screenshot-2024-03-18-at-9-20-37-AM.png](https://i.postimg.cc/DyG8DHN4/Screenshot-2024-03-18-at-9-20-37-AM.png)](https://postimg.cc/2VzkLcrC)\n",
    "My answer:\n",
    "[![Screenshot-2024-03-18-at-9-22-57-AM.png](https://i.postimg.cc/Wzw1nFSN/Screenshot-2024-03-18-at-9-22-57-AM.png)](https://postimg.cc/y3WK6Nwt)\n",
    "Correct answer:\n",
    "[![Screenshot-2024-03-18-at-9-23-13-AM.png](https://i.postimg.cc/sf4jbW9y/Screenshot-2024-03-18-at-9-23-13-AM.png)](https://postimg.cc/vDDwVcNS)\n",
    "\n",
    "- The main issue I had with this problem was a genuine lack of knowledge regarding it - I didn't know what the differences were between them and got them both mixed up. Upon reflection I should've had the clue that the \"inter-net\" would be a system of interconnected networks.\n",
    "\n",
    "### Question 14\n",
    "Question and My answer:\n",
    "[![Screenshot-2024-03-18-at-9-25-44-AM.png](https://i.postimg.cc/sD12SX7r/Screenshot-2024-03-18-at-9-25-44-AM.png)](https://postimg.cc/HVDH1T6Z)\n",
    "Correct Answer:\n",
    "[![Screenshot-2024-03-18-at-9-26-04-AM.png](https://i.postimg.cc/RFVmBsTB/Screenshot-2024-03-18-at-9-26-04-AM.png)](https://postimg.cc/yJ5thT5Q)\n",
    "\n",
    "- For this problem I should have taken my time more and written out the sequence - it was hard to tell that my answer was a wrong one as the datasets can get complicated in design.\n",
    "\n",
    "### Question 19\n",
    "Question and My Answer:\n",
    "[![Screenshot-2024-03-18-at-9-27-39-AM.png](https://i.postimg.cc/BQcX4yT8/Screenshot-2024-03-18-at-9-27-39-AM.png)](https://postimg.cc/ZCnTLwDZ)\n",
    "Correct Answer:\n",
    "[![Screenshot-2024-03-18-at-9-28-01-AM.png](https://i.postimg.cc/nhN85VXq/Screenshot-2024-03-18-at-9-28-01-AM.png)](https://postimg.cc/qNcZ6TX7)\n",
    "\n",
    "- I could have sworn I answered the correct answer when taking the quiz, that was definetly the answer I believed. I'm chalking this one up to a misclick or small accident since I'm sure I knew this. \n",
    "\n",
    "### Question 55\n",
    "Question and  My answer:\n",
    "[![Screenshot-2024-03-18-at-9-29-57-AM.png](https://i.postimg.cc/85MrWC64/Screenshot-2024-03-18-at-9-29-57-AM.png)](https://postimg.cc/r0ym2MgR)\n",
    "Correct Answer:\n",
    "[![Screenshot-2024-03-18-at-9-30-29-AM.png](https://i.postimg.cc/g240CZv1/Screenshot-2024-03-18-at-9-30-29-AM.png)](https://postimg.cc/JsDmJtYQ)\n",
    "\n",
    "- This was a tough question for me and I struggled to wrap my head around the fact that you couldn't assign a temp to something that was already deleted. I didn't spend enough time on systematically \"running\" the program in my head.\n",
    "\n",
    "### Question 66\n",
    "Question and  My answer:\n",
    "[![Screenshot-2024-03-18-at-9-33-09-AM.png](https://i.postimg.cc/nhBHxS6s/Screenshot-2024-03-18-at-9-33-09-AM.png)](https://postimg.cc/DSfVd6fF)\n",
    "Correct Answer:\n",
    "[![Screenshot-2024-03-18-at-9-33-31-AM.png](https://i.postimg.cc/htcSS1gp/Screenshot-2024-03-18-at-9-33-31-AM.png)](https://postimg.cc/YhDcRgvW)\n",
    "\n",
    "- This was also a tough question as the situation was kind of complex. Especially when there's more than one right option, it messes up my thought process for it - I got one of the answers but missed the other. Again, should've run the code in my head or on some paper to clear up misconceptions.\n",
    "\n",
    "## How I studied:\n",
    "- Previous Trimester Practice Tests/Student Teaches:\n",
    "    - Many of the collegeboard questions came from information directly found in the collegeboard Big Ideas. By paying attention in class during student team teaches, and completing every team teach homework dillegently with thought, I was able to retain much of the information needed. \n",
    "    - I also reviewed the presentations themselves for a boost during challenging parts of the test, looking back to see things like how IPv6 addresses and Creative Commons liscences worked.\n",
    "- Pseudocode:\n",
    "    - I looked over a lot of presentations from last trimester as they talked much more on principles like algorithmic efficiency, simulations, how pseudocode works, logic gates (these were a big big part of it), and much more\n",
    "    - I also kept the collegeboard CSP reference sheet opened to help me understand how some pseudo elements worked but as this was the second test so far I had a good grasp on it.\n",
    "    - Link to collegeboard reference sheet [here](https://apcentral.collegeboard.org/media/pdf/ap-computer-science-principles-exam-reference-sheet.pdf?course=ap-computer-science-principles)\n",
    "\n",
    "## Conclusion:\n",
    "I feel happy with my score as I got 65/70, or around 93%, which is a 5 on the AP exam. I felt confident in my answers and finished it perfectly in my CSP class time, showing that I can do the work in reasonable time for the AP exam. Based on this quiz I can tell that I need to work on my rational thinking via displaying on paper skills - its really useful to write down code sequences to understand them. I need to study that more and review team teach notes. Feeling good! "
   ]
  },
  {
   "cell_type": "code",
   "execution_count": null,
   "metadata": {},
   "outputs": [],
   "source": []
  }
 ],
 "metadata": {
  "language_info": {
   "name": "python"
  }
 },
 "nbformat": 4,
 "nbformat_minor": 2
}
