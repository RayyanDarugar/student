{
 "cells": [
  {
   "cell_type": "markdown",
   "metadata": {},
   "source": [
    "---\n",
    "layout: post\n",
    "comments: true\n",
    "title: PDF Text Splitter\n",
    "toc: true\n",
    "description: I developed a text splitter for pdfs converted to html so I could extract data without manually copy-pasting it.\n",
    "courses: { compsci: {week: 3, categories: [3.A, 5.B]} }\n",
    "categories: [C3.0, C3.1, C4.1]\n",
    "type: hacks\n",
    "---"
   ]
  },
  {
   "cell_type": "markdown",
   "metadata": {},
   "source": [
    "## Website to turn PDF into HTML"
   ]
  },
  {
   "cell_type": "markdown",
   "metadata": {},
   "source": [
    "https://cloudconvert.com/pdf-to-html"
   ]
  },
  {
   "cell_type": "markdown",
   "metadata": {},
   "source": [
    "## Coding the HTML Splitter"
   ]
  },
  {
   "cell_type": "code",
   "execution_count": 8,
   "metadata": {},
   "outputs": [],
   "source": [
    "html = open(\"HT5.html\").read()"
   ]
  },
  {
   "cell_type": "markdown",
   "metadata": {},
   "source": [
    "# Removing all Useless HTML Data from file"
   ]
  },
  {
   "cell_type": "code",
   "execution_count": 9,
   "metadata": {},
   "outputs": [
    {
     "data": {
      "text/plain": [
       "' class=\"t m0 x6 h2 yf ff1 fs0 fc0 sc0 ls1 ws2\">QSRM <span class=\"ls0 ws0\">- <span class=\"ls2 ws3\">Qui<span class=\"_ _0\"></span>ck Serve Restaur<span class=\"_ _0\"></span>ant Management<span class=\"_ _0\"></span> Series Ev<span class=\"_ _0\"></span>ent<span class=\"ls0 ws0\"> </span></span></span></div>'"
      ]
     },
     "execution_count": 9,
     "metadata": {},
     "output_type": "execute_result"
    }
   ],
   "source": [
    "divs = html.split(\"<div\")\n",
    "divs[20]"
   ]
  },
  {
   "cell_type": "markdown",
   "metadata": {},
   "source": [
    "# Splitting HTML Data into Bold Text (in this case PIs) and Plaintext (in this case the Definitions)\n",
    "\n",
    "NOTE: Chat GPT was used to teach me how to create this code via reviewing it and instructing me on how Regular Expressions work. (key to cleaning up the cluttered HTML data)"
   ]
  },
  {
   "cell_type": "code",
   "execution_count": 10,
   "metadata": {},
   "outputs": [
    {
     "name": "stdout",
     "output_type": "stream",
     "text": [
      "PI:          \n",
      "Hospitality and Tourism  Cluster Exam   \n",
      "\n",
      "\n",
      "PI: \n",
      " \n",
      "\n",
      "\n",
      "PI:Center , Columbus, Ohio (dba MBA Research). Each individual test item contained herein is the exclusive  property of MBA Research. Items are licensed to DECA only for use as configured within this exam, in its  entirety. Use of individual items for any purpose other than as specifically authorized is prohibited.  obtained prior to posting. Report violations to DECA at 703.860.5000 and MBA Research at  800.448.0398.     DECA Inc. will impose sanctions on chapters and chartered associations for violations of this policy up to  and including disqualification of competitors and chapters from further participation.   1.  Which of the following is an example of piggyback franchising:  A.  Subway operating in a stand-alone storefront   B.  Pampered Chef selling products within a home   C.  McDonald&apos;s operating within a Walmart   D.  Ford selling vehicles at a local dealership      2.  According to Continental Eatery&apos;s menu, its salmon is flown in directly from Alaska every day. However,  the salmon is actually purchased from a local grocery store once a week. What type of law is the  restaurant potentially violating?  A.  Affinity fraud   C.  Petty theft   B.  Insider trading   D.  Truth-in-menu      3.  When Lara restated Tamir&apos;s message in her own words to show she was listening, she __________ his  message.  A.  paraphrased   C.  reproduced   B.  repeated   D.  parodied     4.  Which of the following are two examples of positive nonverbal cues:  A.  Relaxed demeanor and slouching   C.  Good posture and maintaining eye contact   B.  Tense facial expression and nodding   D.  Little eye contact and fidgeting      5.  If you feel you have lost your audience&apos;s attention during a presentation, what should you do?  A.  Gather your belongings and leave the stage.   B.  Clap your hands to capture their attention.   C.  Pause briefly to regain their attention.   D.  Share an unrelated example to gain their attention.      6.  Amare works as a customer service associate at a hotel. He is approached by a customer who complains  that their room has not been cleaned thoroughly prior to their arrival. The customer wants a new room,  but Amare knows the hotel has been completely booked for an upcoming wedding. What is the best way  for Amare to respond to this customer&apos;s complaint?  A.  He should provide an alternative solution to this customer&apos;s complaint.   B.  He should explain in detail why he cannot accommodate the request.   C.  He should inspect the room to see for himself whether it is truly dirty.   D.  He should apologize profusely and reprimand the cleaning staff.     7.  Poshan is in charge of training new servers at his restaurant. One of the most important lessons he plans  to teach is the topic of guest recovery. He needs the new servers to understand that guest recovery  means turning a customer&apos;s __________ into a __________.  A.  ideas; resolution   C.  positive experience; negative experience   B.  complaint; discount   D.  negative experience; positive experience      8.  A brand promise is usually  A.  emailed to customers.   C.  not written in words.   B.  the same as the slogan.   D.  just for employees.      9.  One of the best ways to demonstrate exemplary customer service in the hospitality and tourism industry  is to  A.  offer discounts.   C.  waive late fees.   B.  be proactive.   D.  be frugal.     10.  Which of the following is a method a business can use to anticipate the unspoken needs of its customers:  A.  Avoid distributing free trials   B.  Disregard customers who provide negative feedback   C.  Interview current and new customers   D.  Ignore feedback on competitors&apos; products     11.  Alice is a waitress at a local restaurant. One of her customers requests the house salad without the  bacon because they are a vegetarian and don&apos;t eat meat. How should Alice handle this request?  A.  Tell the kitchen staff to hide the bacon under the lettuce to see if the customer even notices   B.  Ask the kitchen staff to prepare the salad as usual, then remove the bacon from the salad  afterward   C.  Instruct the kitchen staff to ensure the salad doesn&apos;t come into contact with any meat products   D.  Inform the customer that the salad doesn&apos;t have much meat in it, so they should be fine     12.  After ordering a new phone case, Heather was so satisfied with her purchase that she decided to share  her opinion by writing a positive review online. She also told several of her family members, friends, and  colleagues about the case. This is most likely an example of the __________ moment of truth.  A.  first   C.  ultimate   B.  zero   D.  second     13.  What is the first step in the order fulfillment process?  A.  Picking inventory   C.  Processing the order   B.  Preparing for shipping   D.  Taking the order     14.  Anne-Marie knows that every Sunday morning, her restaurant is very busy. Which of the following actions  should she take to manage the customer experience during this peak in demand:  A.  Clean the restrooms frequently   C.  Schedule additional servers   B.  Offer discounted entrees   D.  Put a sign outside the front door     15.  Three factors of production are human resources, natural resources, and capital goods. A suggested  fourth factor of production is  A.  fossil fuels.   C.  technology.   B.  stockpiling.   D.  entrepreneurship.    16.  A social media company makes a great deal of money selling the personal information of its clients.  Since the company never promised to keep the information private, it isn&apos;t technically breaking the law,  but it might not be considered ethical, either. The business decided that its action is acceptable because  it is  A.  acceptable in a foreign culture.   C.  committed by a few unethical employees.   B.  beneficial to the company.   D.  acceptable within the industry.     17.  By providing many diverse job opportunities, the hospitality and tourism industry impacts the economy  through  A.  employment.   C.  environmental sustainability.   B.  property values.   D.  inflation.    18.  Something of value that can be used to obtain goods and services is a(n)  A.  market.   C.  economic system.   B.  medium of exchange.  D.  quota.     19.  What is an economic metric that converts current prices to a base dollar value?  A.  Nominal GDP   C.  Inflation   B.  Price deflator   D.  Real GDP     20.  Which of the following is true about paying attention to the differences and similarities between ourselves  and others:  A.  It is only done by certain people.   C.  It is a part of human nature.   B.  It is a sign of bad character.   D.  It is something we grow out of.     21.  Artem displays interest and excitement when giving a tour to people visiting an important historic city. He  is a successful tour guide because he demonstrates  A.  cultural sensitivity.   C.  teamwork.   B.  enthusiasm.   D.  empathy.     22.  After making changes to the way she takes responsibility for her decisions and actions, Abby feels in  control of her life. Abby is feeling  A.  empowered.   C.  resentful.   B.  coachable.   D.  proactive.     23.  Which of the following is a feature of destructive criticism:  A.  It includes a personal attack.   C.  It can raise morale and self-esteem.   B.  It is delivered in private.   D.  It is specific and factual.     24.  Which of the following is an example of a secondary dimension of diversity:  A.  Age   C.  Family status   B.  Nationality   D.  Sexual orientation     25.  Which of the following is an example of a sender creating a barrier to communication:  A.  Cardell daydreams during a company presentation.   B.  Katya emails her manager to request a meeting.   C.  Waverly forgets to reply to her friend&apos;s text message.   D.  Jackson misspells several words on his resume.     26.  When you persuade, you try to  A.  make people act a certain way.   C.  get people to say yes by using intimidation.   B.  force others to agree with you.   D.  influence people to change their behavior.     27.  Which of the following investments charges a penalty for withdrawing money before the end of the time  period:  A.  Savings account   C.  Certificate of deposit (CD)   B.  Bond   D.  Money market account     28.  A business&apos;s accounting records show that the total sales revenue this month is roughly $515,000. Credit  sales accounted for the majority of the sales, bringing in around $330,000. The credit sales were most  likely recorded using  A.  a cash flow statement.   C.  the accrual accounting method.   B.  an income statement.   D.  the accounting cycle.     29.  Businesses benefit from ethical accounting practices in which of the following ways:  A.  Decreased paperwork   C.  Increased legal liability   B.  Improved accuracy   D.  Less regulation     30.  Separating responsibilities for cash transactions is one way businesses try to prevent  A.  fraud.   C.  refunds.   B.  competition.   D.  debt collection.     31.  Juan is facing an ethical dilemma at work and convinces himself, “This is no big deal. People do it all the  time.” What is occurring in this situation?  A.  Rationalization   C.  Framing   B.  Self-regulation   D.  Loss aversion     32.  Sawyer needs to calculate free cash flow for his bed-and-breakfast. On the company&apos;s financial  documents, he sees Cash Flow From Operations = $550,400; Cash Flow From Financing = $12,000; and  Capital Expenditures = $378,200. What is the bed-and-breakfast&apos;s free cash flow?  A.  $172,200   C.  $160,200  B.  $184,200   D.  $196,200     33.  Which of the following is a benefit of accepting credit card payments:  A.  More chargebacks   C.  Improved cash flow  B.  Increased processing fees   D.  Higher wage expenses     34.  Hotel employees Darlene and Shay frequently disagree on how to approach challenges they encounter  in the workplace, because Darlene is a baby boomer and Shay is a millennial. This is an example of what  kind of issue associated with workplace diversity?  A.  Ethnic   C.  Gender   B.  Religious   D.  Generational     35.  Deborah recently assumed a management position at a marketing agency. Her first goal is making the  tacit expertise of tenured employees explicit and easily communicated to new employees. What is this  process called?  A.  Intellectual capital   C.  Informational power   B.  Knowledge harvest   D.  Cultural intelligence     36.  Capturing customer attention and generating demand for goods and services is part of which component  of the marketing mix?  A.  Product   C.  Place  B.  Promotion  D.  Price    37.  Which of the following is true about service marketing:  A.  It aims to reduce the number of returns by customers.   B.  It is easy to demonstrate the value of what is being sold.   C.  It focuses on selling items that can be seen and touched.   D.  It involves creating relationships with a target audience.     38.  If Malai wants to understand the likelihood that his organization will not deliver good outcomes in the  future, he should examine the organization&apos;s  A.  key risk indicators.   C.  proprietary information.   B.  key performance indicators.   D.  financial statements.     39.  The question &quot;Are you traveling for business or pleasure?&quot; is an example of a __________ segmentation  inquiry.  A.  demographic   C.  geographic   B.  psychographic   D.  choreographic     40.  When considering your business&apos;s specific information management needs, it is important to  A.  make sure that information is retrievable.   B.  separate information management duties by department.   C.  make sure that information is open to everyone.   D.  prioritize information management needs based on individual needs.     41.  The increasing emphasis on mobile-friendly services within the hospitality and tourism industry is a result  of customer desire for  A.  convenience.   C.  price.   B.  quality.   D.  luxury.     42.  Iseabail conducts email marketing for a luxury spa, and she wants to know how many email campaign  recipients read the most recent email. Which metric would most likely give Iseabail the information she is  looking for?  A.  Unsubscribe rate   C.  Click-to-open rate   B.  Bounce rate   D.  Open rate     43.  A company is keeping documents because one of its employees was injured on the job. In case the  injured employee decides to press charges, it is important for the company to have __________ records  on hand.  A.  legal   C.  asset   B.  inventory   D.  financial     44.  Christine and a few of her colleagues are participating in her business&apos;s environmental scanning efforts.  They are currently collecting data through surveys, questionnaires, and focus groups. What step of  environmental scanning will Christine and her team likely do next?  A.  Report results or select issues and trends to act on   B.  Identify and analyze important issues and trends   C.  Identify participants and responsibilities   D.  Perform an environmental scan on a continuous basis     45.  Samantha owns a small bed-and-breakfast and is approached by someone interested in buying her  business. To assess the value of the potential purchase, the buyer requests information about the money  the business has made and lost over the past several years. The buyer most likely wants to review the  business&apos;s  A.  social media accounts.   C.  balance sheet.   B.  income statement.   D.  pricing objectives.     46.  Coraline is looking for a hotel to book for her upcoming wedding. She looks at three different hotels and  chooses the one closest to the wedding venue. This is an example of making a decision based on  business  A.  location.   C.  quality.   B.  reviews.   D.  price.      47.  Many businesses choose to collect business information through sources like observations or discussion  groups because primary research  A.  is inexpensive for organizations to facilitate.   C.  can be custom fit to specific research needs.   B.  is faster to conduct than secondary research.   D.  uses data that are already in existence.     48.  Bianca is searching for overnight lodging during her cross-country trip and wants to see customer  reviews for hotels in the area. What should Bianca do to find this information?  A.  Read a company blog post   C.  Conduct a search engine query   B.  Review website analytics   D.  Follow social media accounts     49.  The best way to track any regulatory changes that might impact the hospitality and tourism industry is to  A.  obtain a law degree.   C.  monitor government agency websites.   B.  check out library books.   D.  consult internet legal forums.     50.  What is the mean of the data set [2, 3, 9, 6, 4, 8, 3]?  A.  7   C.  3   B.  4   D.  5     51.  Jorge manages a bakery with five types of products: breads, muffins, cookies, quiches, and desserts. He  wants to know how each type of product contributed to last year&apos;s sales in relation to the others. So, he  creates a graph with sections sized proportionally to the quantity they represent to show a part-to-whole  relationship. What type of chart did Jorge create?  A.  Pie chart   C.  Line graph   B.  Bar chart   D.  Scatter plot     52.  To make it easier to find specific information in a business report, you should include a(n)  A.  introduction.   C.  title page.   B.  appendix.   D.  table of contents.     53.  As a result of health concerns regarding the COVID-19 pandemic, the hospitality and tourism industry is  increasingly offering more digitalized experiences and __________ services.  A.  customer-facing   C.  cost-efficient   B.  quality   D.  contactless     54.  Whether they are there for business or leisure, most of the guests at Susan&apos;s hotel have more pressing  priorities than navigating the hotel&apos;s check-in and check-out system. That&apos;s why Susan has implemented  a mobile check-in option, which allows guests to skip the lobby line. This is an example of building a  relationship with guests based on  A.  quality.   C.  price.   B.  convenience.   D.  location.      55.  Darla is in charge of finding and selecting an attorney to provide legal services in case her company is  ever involved in a lawsuit. Darla knows there are many attorneys to consider in her area, but she is  thinking about hiring her sister-in-law, who is also a local attorney. This is an example of  A.  a liability.   C.  quality assurance.  B.  time theft.   D.  a conflict of interest.    56.  Retailers, wholesalers, and agents are examples of  A.  industries.   C.  consumers.   B.  producers.   D.  intermediaries.     57.  Which of the following questions should be considered when developing evacuation procedures:  A.  Are the office hallways large enough to accommodate all personnel leaving the building?   B.  What is the most appropriate way to dispose of hazardous material in the building?   C.  Are there accommodations for employees uncomfortable with an in-person office setting?   D.  What options are available to personnel who have concerns about current safety protocol?     58.  When providing first aid, what should you do first?  A.  Ask questions about symptoms.   C.  Give care based on the condition found.   B.  Check the person for responsiveness.   D.  Check the scene for safety.     59.  Which of the following practices helps you prevent credit card fraud:  A.  Saving your information online   B.  Using only secure websites   C.  Posting sensitive information on social media   D.  Taking advantage of phishing scams     60.  Which of the following is a benefit of evaluating project success:  A.  Eliminating the need for customer satisfaction   B.  Figuring out who is to blame for shortcomings   C.  Keeping stakeholders from knowing about mistakes   D.  Identifying the need for future projects     61.  For inexpensive goods and services the business uses on a regular basis, a purchasing specialist can  place a  A.  refill request.   C.  temporary purchase order.  B.  competitive bid.  D.  blanket purchase order.    62.  Consumers most likely associate which of the following words with the services offered by the hospitality  and tourism industry:  A.  Accuracy   C.  Equity   B.  Luxury   D.  Transparency      63.  Rent, depreciation, and employee benefits are examples of  A.  overhead costs.   C.  variable expenses.   B.  fixed expenses.   D.  semi-variable costs.     64.  Hilary is having trouble tracking her different invoices because she wrote “project as discussed” under  each invoice&apos;s description section. To correct this problem, Hilary should make sure her future invoices  are  A.  qualified.   C.  timely.   B.  accurate.   D.  specific.     65.  Simone needs to update a customer&apos;s credit card information in the company&apos;s internal database. How  should Simone obtain this information?  A.  Text the customer to ask they take a picture and text the information   B.  Email the customer and request they respond with the information   C.  Call the customer and ask them to verbalize the information   D.  Request the customer write down and mail the information     66.  Consumers in the tourism industry often use air travel to visit their destinations. While this method of  transportation is faster than other alternatives, it is also a large source of greenhouse gas emission,  which contributes to climate change. This is an environmental sustainability issue related to  A.  garbage/waste.   C.  water usage.   B.  pollution.   D.  ethnocentrism.     67.  An office manager requests that all employees refill their personal water bottles instead of using single- use plastic water bottles. This is a waste prevention method asking personnel to  A.  reuse.   C.  donate.   B.  reduce.   D.  enhance.     68.  To be a successful entrepreneur, you should develop and continually improve your  A.  creative writing and financial skills.   C.  technical skills and self-awareness.   B.  communication and creative writing skills.   D.  financial and technical skills.     69.  Museum conservators typically work in which of the following hospitality and tourism segments:  A.  Restaurants and food/beverage services   C.  Travel and tourism   B.  Recreation, amusements, and attractions   D.  Lodging    70.  A restaurant has guidelines outlining how frequently employees should wash their hands and how often  they should wipe down tables. These guidelines are examples of  A.  procedures.   C.  policies.   B.  protocols.   D.  precedents.     71.  Which of the following best describes codes of conduct:  A.  They are generally derived solely from an organization&apos;s principles.   B.  They are typically based on an organization&apos;s values and applicable laws.   C.  They include all local laws, as well as any relevant state and federal laws.   D.  They are created according to the preferences of the company president.     72.  A zoo is an example of an institution that most often combines the __________ and the __________  segments of the hospitality and tourism industry.  A.  lodging; recreation   C.  recreation; food   B.  travel; lodging   D.  food; travel     73.  Which of the following parties is mostly likely engaging with the hospitality and tourism industry:  A.  A couple on their honeymoon   C.  Children attending private school   B.  An employee working virtually   D.  A family living in New Zealand     74.  When a business lowered its prices during a bad economic time, it demonstrated __________ pricing.  A.  exchange   C.  competitive   B.  realistic   D.  flexible     75.  When managing products and services, businesses must consider __________ needs and wants.  A.  customer   C.  shareholder  B.  executive board  D.  government    76.  A bakery promises that customers will love their special holiday pastries. If they don&apos;t, the bakery will  refund the customers&apos; money. This is an example of a  A.  specification.   C.  monopoly.   B.  warranty.   D.  guarantee.     77.  When Erika goes shopping, she discovers that her favorite face wash is no longer available for sale by  itself. Instead of being sold separately, the face wash is now only available as part of a spa package with  a lotion and spot treatment. This is an example of  A.  pure bundling.   C.  mixed costs.   B.  mixed bundling.   D.  pure monopoly.     78.  The Nike “swoosh” is an example of a  A.  trade character.   C.  brand name.   B.  brand mark.   D.  product line.     79.  An advertisement for a spa promotes its clean facility, gentle massage therapists, and peaceful  atmosphere. The spa is communicating the core customer value of  A.  knowledge.   C.  sociability.   B.  adventure.   D.  relaxation.     80.  As a digital marketer for a small florist, Anna responds to reviews the company receives on its Facebook  page. This social media interaction is an example of a  A.  brand promise.   C.  touchpoint.   B.  brand identity.   D.  mission statement.     81.  Products in the hospitality and tourism industry can best be described as  A.  nonverbal.   C.  experiential.   B.  interpersonal.   D.  controversial.     82.  Kassidy needs to purchase new furniture for her office. The purchase order for the furniture is detailed,  noting the quantity, price, and delivery date. Kassidy does not plan to make this purchase again. What  type of purchase order did Kassidy use?  A.  Solitary purchase order   C.  Planned purchase order   B.  Blanket purchase order   D.  Single-use purchase order     83.  When selecting a vendor for your business, it is important to be  A.  objective.   C.  frugal.   B.  biased.   D.  emotional.     84.  A promotion that seeks to reinforce a favorable company image that is already present in customers&apos;  minds is an example of which of the following types of promotional objectives:  A.  Promotion to entertain   C.  Promotion to persuade   B.  Promotion to inform  D.  Promotion to remind     85.  Business owner Carl wants to create a certain image of the company in his customers&apos; eyes. He decides  to do this by informing customers about the company, its ideas, and its philosophy. Carl&apos;s business is  implementing what type of promotion?  A.  Secondary   C.  Institutional  B.  Primary   D.  Selective    86.  A luxury resort would like to place an advertisement in a magazine to promote its upscale location and  services. Which of the following fictional magazines would be the best place for this advertisement:    87.  Hassan&apos;s business is committed to constantly seeking new ways to make its processes and products  more efficient. Recently, the business adopted a new delivery system that helps customers receive their  online orders in half of the time. This is an example of what aspect of quality management?  A.  Quality assurance   C.  Quality improvement   B.  Quality control   D.  Quality deterrent     88.  Rate of use, benefits derived, and loyalty response are types of __________ segmentation.  A.  demographic   C.  psychographic   B.  geographic   D.  behavioral     89.  Like food service is just one segment of the hospitality and tourism industry, __________ is one  component of __________.  A.  internal risk; external risk   C.  risk control; risk management   B.  risk management; risk control   D.  external risk; internal risk     90.  The first step in building a good relationship with a new client involves  A.  presenting product or service information to the customer.   B.  following up with a customer after they have made a purchase.   C.  doing research on the products and services you will be selling.   D.  outlining the return and exchange policy to the customer.     91.  Company policies relating to prospecting, opening a sales relationship, and qualifying the customer are  all examples of __________ policies.  A.  service   C.  selling-activity   B.  terms-of-sale   D.  sales quota     92.  Lila is giving a sales presentation to a potential customer interested in purchasing a new kitchen knife. To  close the sale, what should Lila make sure to let the customer know about the knife?  A.  It measures ten inches long.   C.  Its blade is 30% sharper than others.   B.  It makes cutting vegetables easy.   D.  Its handle is available in three colors.     93.  Holly is a lawn care service sales representative discussing her firm&apos;s capabilities with a customer. After  learning the customer is concerned about how the chemicals will affect the family pet, Holly restates their  concern and then reassures them that the product is safe for animals. In this example, Holly handled a  customer  A.  objection.   C.  benefit.  B.  question.   D.  opinion.    94.  Rather than relying solely on a reception desk in the lobby, a hotel checks in its guests by using tablets  that can access the hotel management system anywhere in the building to increase efficiency and  convenience. This is an example of __________ impacting the hospitality and tourism industry.  A.  social media   C.  personalization   B.  mobile devices   D.  globalization     95.  Leonora, a travel agent, is currently working with a couple who are planning their honeymoon. To meet  their needs, she recommends they honeymoon in Florida because they won&apos;t need a connecting flight to  reach their destination. Leonora most likely has offered this suggestion in response to her client&apos;s need  for  A.  reliability.   C.  design.   B.  price.   D.  convenience.     96.  A well-established restaurant wants to add new items to its menu. To better understand what current  customers would enjoy, the restaurant&apos;s marketers decide to conduct informal interviews. This is an  example of  A.  quantitative data.   C.  primary research.   B.  secondary research.   D.  outsourcing.     97.  When processing phone orders, employees should  A.  rely on memory to document important order information.   B.  identify themselves and the business when answering a call.   C.  avoid asking customers to repeat information they missed.   D.  use slang to connect with customers while on the phone.     98.  Ana is processing a coupon for a customer who ordered a large coffee. Because of the coupon, the  purchase price of the coffee is most likely to be  A.  reduced.   C.  halved.   B.  increased.   D.  doubled.     99.  Gus works at a company where a few managers oversee a large number of employees. This company  has a __________ span of control.  A.  tall   C.  vertical   B.  narrow   D.  wide    100.  Which of the following is the most likely consequence of overstaffing:  A.  Exhausted employees   C.  Wasted money   B.  Loss of morale   D.  Uncompleted tasks                  \n",
      "Hospitality and Tourism  Cluster Exam \n",
      "\n",
      "\n"
     ]
    }
   ],
   "source": [
    "import re\n",
    "import csv\n",
    "\n",
    "pattern = r'<span.*?>|</span>'\n",
    "\n",
    "pi = \"\"\n",
    "section = \"\"\n",
    "lines = []\n",
    "\n",
    "csvwriter = csv.writer(open(\"HT5.csv\",\"w\"))\n",
    "\n",
    "# \n",
    "\n",
    "for div in divs:\n",
    "    cl, txt = div.split(\">\",1)[:2]\n",
    "    txt = re.sub(pattern, '', txt)\n",
    "    txt = txt.split(\"<\")[0]\n",
    "    if \" h4 \" in cl:\n",
    "        # print(f\"TEXT:{txt}\")\n",
    "        lines.append(txt)\n",
    "    elif \" h3 \" in cl:\n",
    "        if lines:\n",
    "            print(f\"PI:{pi}\")\n",
    "            print(\" \".join(lines))\n",
    "            print(\"\\n\")\n",
    "            csvwriter.writerow([section, \"\", \"\", pi, \" \".join(lines)])\n",
    "            pi = txt\n",
    "            lines = []\n",
    "        else:\n",
    "            pi = pi + \" \" + txt\n",
    "        # print(f\"PI:{txt}\")\n",
    "    elif \" h5 \" in cl:\n",
    "        section = txt\n",
    "\n",
    "        \n",
    "csvwriter = None"
   ]
  },
  {
   "cell_type": "markdown",
   "metadata": {},
   "source": [
    "# Hacks Showcases From All Previous Lessons\n",
    "\n",
    "Here I showcase JS Tables, Python Emojis, Make use of Linux and show all completed coding prerequisites, and throughout the rest of this code I demonstrate python knowledge, webpage integration, and HTML management. I've also added a comment section with a breakdown of how I developed the tool."
   ]
  },
  {
   "cell_type": "code",
   "execution_count": 5,
   "metadata": {
    "vscode": {
     "languageId": "html"
    }
   },
   "outputs": [
    {
     "data": {
      "text/html": [
       "\n",
       "<h2>PI Data Table Draft</h2>\n",
       "\n",
       "<!-- Body contains the contents of the Document -->\n",
       "<body>\n",
       "    <table class=\"table\">\n",
       "        <thead>\n",
       "            <tr>\n",
       "                <th>Section</th>\n",
       "                <th>Performance Indicator</th>\n",
       "                <th>Definition</th>\n",
       "            </tr>\n",
       "        </thead>\n",
       "        <tbody>\n",
       "            <tr>\n",
       "                <td>Business Law</td>\n",
       "                <td>Describe the United States judicial system</td>\n",
       "                <td>The judicial branch of the federal government interprets, applies, and administers the laws of the US. It is  a network of courts at all levels  of government. Federal courts include district courts, federal courts of appeals, and the U.S.  Supreme Court. The state court system also includes a state Supreme Court, associate circuit courts, city or municipal courts, small claims courts,  juvenile courts, and probate courts.</td>\n",
       "            </tr>\n",
       "            <tr>\n",
       "                <td>Business Law</td>\n",
       "                <td>Determine the relationship between government and business</td>\n",
       "                <td>The government serves as both a protector and a regulator of business in a free market economy. It serves to protect business property, enforce  contracts and settle disagreements through the courts, and collect taxes on the products businesses sell. As a regulator, the government enacts  and enforces laws to prohibit certain behaviors, control business activities, and require certain standards. Examples of such laws include laws to control monopolies, set product safety standards, and regulate prices</td>\n",
       "            </tr>\n",
       "            <tr>\n",
       "                <td>Business Law</td>\n",
       "                <td>Explain unfair labor practices</td>\n",
       "                <td>Actions taken by employers or unions that are illegal under the National Labor Relations Act (NLRA) and other labor laws. (Unfair treatment because of race, religion, gender, etc.)</td>\n",
       "            </tr>\n",
       "            <tr>\n",
       "                <td>Entreprenuership</td>\n",
       "                <td>What is the nature and scope of entrepreneurship</td>\n",
       "                <td>Entrepreneurship is a self-motivated activity, which helps the entrepreneur to bring changes in the process of production, innovation in  production, new usage of materials, creator of market etc. It is a mental attitude to foresee risk and uncertainty and do something new in  an effective manner to achieve certain goals.</td>\n",
       "            </tr>\n",
       "        </tbody>\n",
       "    </table>\n",
       "</body>\n"
      ],
      "text/plain": [
       "<IPython.core.display.HTML object>"
      ]
     },
     "metadata": {},
     "output_type": "display_data"
    }
   ],
   "source": [
    "%%html\n",
    "\n",
    "<h3>PI Data Table Draft</h3>\n",
    "\n",
    "<!-- Body contains the contents of the Document -->\n",
    "<body>\n",
    "    <table class=\"table\">\n",
    "        <thead>\n",
    "            <tr>\n",
    "                <th>Section</th>\n",
    "                <th>Performance Indicator</th>\n",
    "                <th>Definition</th>\n",
    "            </tr>\n",
    "        </thead>\n",
    "        <tbody>\n",
    "            <tr>\n",
    "                <td>Business Law</td>\n",
    "                <td>Describe the United States judicial system</td>\n",
    "                <td>The judicial branch of the federal government interprets, applies, and administers the laws of the US. It is  a network of courts at all levels  of government. Federal courts include district courts, federal courts of appeals, and the U.S.  Supreme Court. The state court system also includes a state Supreme Court, associate circuit courts, city or municipal courts, small claims courts,  juvenile courts, and probate courts.</td>\n",
    "            </tr>\n",
    "            <tr>\n",
    "                <td>Business Law</td>\n",
    "                <td>Determine the relationship between government and business</td>\n",
    "                <td>The government serves as both a protector and a regulator of business in a free market economy. It serves to protect business property, enforce  contracts and settle disagreements through the courts, and collect taxes on the products businesses sell. As a regulator, the government enacts  and enforces laws to prohibit certain behaviors, control business activities, and require certain standards. Examples of such laws include laws to control monopolies, set product safety standards, and regulate prices</td>\n",
    "            </tr>\n",
    "            <tr>\n",
    "                <td>Business Law</td>\n",
    "                <td>Explain unfair labor practices</td>\n",
    "                <td>Actions taken by employers or unions that are illegal under the National Labor Relations Act (NLRA) and other labor laws. (Unfair treatment because of race, religion, gender, etc.)</td>\n",
    "            </tr>\n",
    "            <tr>\n",
    "                <td>Entreprenuership</td>\n",
    "                <td>What is the nature and scope of entrepreneurship</td>\n",
    "                <td>Entrepreneurship is a self-motivated activity, which helps the entrepreneur to bring changes in the process of production, innovation in  production, new usage of materials, creator of market etc. It is a mental attitude to foresee risk and uncertainty and do something new in  an effective manner to achieve certain goals.</td>\n",
    "            </tr>\n",
    "        </tbody>\n",
    "    </table>\n",
    "</body>"
   ]
  },
  {
   "cell_type": "markdown",
   "metadata": {},
   "source": [
    "# Showcase of Python Tricks with Emojis"
   ]
  },
  {
   "cell_type": "code",
   "execution_count": 9,
   "metadata": {},
   "outputs": [
    {
     "name": "stdout",
     "output_type": "stream",
     "text": [
      "DECA is an International Business Education organization 💰\n",
      "PI's, or Performance Indicators, are ways that students are judged in competition and graded. 🗣️ \n"
     ]
    }
   ],
   "source": [
    "import emoji\n",
    "print(emoji.emojize(\"DECA is an International Business Education organization :money_bag:\"))\n",
    "print(emoji.emojize(\"PI's, or Performance Indicators, are ways that students are judged in competition and graded. :speaking_head: \"))"
   ]
  },
  {
   "cell_type": "markdown",
   "metadata": {},
   "source": [
    "# Defining DECA via Wikipedia"
   ]
  },
  {
   "cell_type": "code",
   "execution_count": 11,
   "metadata": {},
   "outputs": [
    {
     "name": "stdout",
     "output_type": "stream",
     "text": [
      "DECA(organization)\n"
     ]
    },
    {
     "data": {
      "text/markdown": [
       "DECA Inc., formerly Distributive Education Clubs of America, is a 501(c)(3) not-for-profit career and technical student organization (CTSO) with more than 224,000 members in all 50 U.S. states, Washington, DC; Canada, China, Germany, Poland, Guam, Mexico, Puerto Rico and Spain. The United States Congress, the United States Department of Education and state, district and international departments of education authorize DECA's programs.\n",
       "DECA is organized into two unique student divisions each with programs designed to address the learning styles, interests, and focus of its members. The High School Division includes over 173,000 members in 3,200 schools. The Collegiate Division (formerly Delta Epsilon Chi) includes over 4,000 members in 200+ colleges and universities.The organization's mission statement is as follows:\n",
       "\n",
       "DECA prepares emerging leaders and entrepreneurs in marketing, finance, hospitality and management in high schools and colleges around the globe. The four components of the organization's Comprehensive Learning Program are that DECA integrates into classroom instruction, applies learning, connects to business, and promotes competition. DECA prepares the next generation to be academically prepared, community-oriented, professionally responsible, experienced leaders.Dr. Ed Davis served as executive director from 1992 to 2014. Paul Wardinski served as executive director from 2014 to 2018. Lou DiGiola served as the executive director in 2018. Nicole Rodrigues formerly served as president. Frank Peterson is currently serving as the executive director since 2020. Lori Hairston is currently serving as president."
      ],
      "text/plain": [
       "<IPython.core.display.Markdown object>"
      ]
     },
     "metadata": {},
     "output_type": "display_data"
    },
    {
     "name": "stdout",
     "output_type": "stream",
     "text": [
      "Performance Indicator\n"
     ]
    },
    {
     "data": {
      "text/markdown": [
       "A performance indicator or key performance indicator (KPI) is a type of performance measurement. KPIs evaluate the success of an organization or of a particular activity (such as projects, programs, products and other initiatives) in which it engages. KPIs provide a focus for strategic and operational improvement, create an analytical basis for decision making and help focus attention on what matters most.Often success is simply the repeated, periodic achievement of some levels of operational goal (e.g. zero defects, 10/10 customer satisfaction), and sometimes success is defined in terms of making progress toward strategic goals. Accordingly, choosing the right KPIs relies upon a good understanding of what is important to the organization. What is deemed important often depends on the department measuring the performance – e.g. the KPIs useful to finance will differ from the KPIs assigned to sales.\n",
       "Since there is a need to understand well what is important, various techniques to assess the present state of the business, and its key activities, are associated with the selection of performance indicators. These assessments often lead to the identification of potential improvements, so performance indicators are routinely associated with 'performance improvement' initiatives. A very common way to choose KPIs is to apply a management framework such as the balanced scorecard.\n",
       "The importance of such performance indicators is evident in the typical decision-making process (e.g. in management of organisations). When a decision-maker considers several options, they must be equipped to properly analyse the status quo to predict the consequences of future actions. Should they make their analysis on the basis of faulty or incomplete information, the predictions will not be reliable and consequently the decision made might yield an unexpected result. Therefore, the proper usage of performance indicators is vital to avoid such mistakes and minimise the risk.\n",
       "\n"
      ],
      "text/plain": [
       "<IPython.core.display.Markdown object>"
      ]
     },
     "metadata": {},
     "output_type": "display_data"
    }
   ],
   "source": [
    "import wikipedia \n",
    "from IPython.display import display, Markdown # add for Jupyter\n",
    "\n",
    "terms = [\"DECA(organization)\", \"Performance Indicator\"]\n",
    "for term in terms:\n",
    "    # Search for a page \n",
    "    result = wikipedia.search(term)\n",
    "    # Get the summary of the first result\n",
    "    summary = wikipedia.summary(result[0])\n",
    "    print(term) \n",
    "    # print(summary) # console display\n",
    "    display(Markdown(summary)) # Jupyter display"
   ]
  },
  {
   "cell_type": "markdown",
   "metadata": {},
   "source": [
    "# Understanding how the Wikipedia Summarize Function works"
   ]
  },
  {
   "cell_type": "code",
   "execution_count": 13,
   "metadata": {},
   "outputs": [
    {
     "name": "stdout",
     "output_type": "stream",
     "text": [
      "@cache\n",
      "def summary(title, sentences=0, chars=0, auto_suggest=True, redirect=True):\n",
      "  '''\n",
      "  Plain text summary of the page.\n",
      "\n",
      "  .. note:: This is a convenience wrapper - auto_suggest and redirect are enabled by default\n",
      "\n",
      "  Keyword arguments:\n",
      "\n",
      "  * sentences - if set, return the first `sentences` sentences (can be no greater than 10).\n",
      "  * chars - if set, return only the first `chars` characters (actual text returned may be slightly longer).\n",
      "  * auto_suggest - let Wikipedia find a valid page title for the query\n",
      "  * redirect - allow redirection without raising RedirectError\n",
      "  '''\n",
      "\n",
      "  # use auto_suggest and redirect to get the correct article\n",
      "  # also, use page's error checking to raise DisambiguationError if necessary\n",
      "  page_info = page(title, auto_suggest=auto_suggest, redirect=redirect)\n",
      "  title = page_info.title\n",
      "  pageid = page_info.pageid\n",
      "\n",
      "  query_params = {\n",
      "    'prop': 'extracts',\n",
      "    'explaintext': '',\n",
      "    'titles': title\n",
      "  }\n",
      "\n",
      "  if sentences:\n",
      "    query_params['exsentences'] = sentences\n",
      "  elif chars:\n",
      "    query_params['exchars'] = chars\n",
      "  else:\n",
      "    query_params['exintro'] = ''\n",
      "\n",
      "  request = _wiki_request(query_params)\n",
      "  summary = request['query']['pages'][pageid]['extract']\n",
      "\n",
      "  return summary\n",
      "\n"
     ]
    }
   ],
   "source": [
    "import inspect \n",
    "from wikipedia import summary\n",
    "print(inspect.getsource(summary))"
   ]
  }
 ],
 "metadata": {
  "kernelspec": {
   "display_name": "Python 3",
   "language": "python",
   "name": "python3"
  },
  "language_info": {
   "codemirror_mode": {
    "name": "ipython",
    "version": 3
   },
   "file_extension": ".py",
   "mimetype": "text/x-python",
   "name": "python",
   "nbconvert_exporter": "python",
   "pygments_lexer": "ipython3",
   "version": "3.11.4"
  },
  "orig_nbformat": 4
 },
 "nbformat": 4,
 "nbformat_minor": 2
}
