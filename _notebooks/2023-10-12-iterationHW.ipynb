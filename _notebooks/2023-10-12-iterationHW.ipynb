{
 "cells": [
  {
   "cell_type": "markdown",
   "metadata": {},
   "source": [
    "---\n",
    "title: Iteration Homework Hack\n",
    "comments: true\n",
    "hide: true\n",
    "layout: post\n",
    "description: Homework Hack for In class presentation for Iteration\n",
    "categories: [C7.0]\n",
    "courses: { compsci: {week: 9} }\n",
    "type: hacks\n",
    "---"
   ]
  },
  {
   "cell_type": "markdown",
   "metadata": {},
   "source": [
    "## HW Hack  1"
   ]
  },
  {
   "cell_type": "code",
   "execution_count": 3,
   "metadata": {},
   "outputs": [
    {
     "name": "stdout",
     "output_type": "stream",
     "text": [
      "Current Activity: Wake up\n",
      "Current Activity: Take a shower\n",
      "Current Activity: Go to school\n",
      "Current Activity: Go to the gym\n",
      "Current Activity: Eat lunch\n",
      "Current Activity: Come home\n",
      "Current Activity: Do homework\n",
      "Current Activity: Eat dinner\n",
      "Current Activity: Study\n",
      "Current Activity: Go to bed\n",
      "DAY END.\n"
     ]
    }
   ],
   "source": [
    "def dailyActivities():\n",
    "    dailyActivities = [\n",
    "        \"Wake up\",\n",
    "        \"Take a shower\",\n",
    "        \"Go to school\",\n",
    "        \"Go to the gym\",\n",
    "        \"Eat lunch\",\n",
    "        \"Come home\",\n",
    "        \"Do homework\",\n",
    "        \"Eat dinner\",\n",
    "        \"Study\",\n",
    "        \"Go to bed\",\n",
    "    ]\n",
    "\n",
    "  \n",
    "    \n",
    "    for activity in dailyActivities:\n",
    "        print(f\"Current Activity: {activity}\")\n",
    "    \n",
    "    print(\"DAY END.\")\n",
    "\n",
    "dailyActivities()"
   ]
  },
  {
   "cell_type": "markdown",
   "metadata": {},
   "source": [
    "## Homework Hack 2"
   ]
  },
  {
   "cell_type": "code",
   "execution_count": 2,
   "metadata": {},
   "outputs": [
    {
     "name": "stdout",
     "output_type": "stream",
     "text": [
      "0\n",
      "1\n",
      "1\n",
      "2\n",
      "3\n",
      "5\n",
      "8\n",
      "13\n"
     ]
    }
   ],
   "source": [
    "x = 3\n",
    "def fibonacci(x):\n",
    "    if x==1:\n",
    "        return(0)\n",
    "    if x == 2:\n",
    "        return(1)\n",
    "   \n",
    "    else:\n",
    "        return(fibonacci(x-1)+ fibonacci(x-2))\n",
    "\n",
    "\n",
    "for i in range(8):    \n",
    "    print(fibonacci(i+1))"
   ]
  }
 ],
 "metadata": {
  "kernelspec": {
   "display_name": "Python 3",
   "language": "python",
   "name": "python3"
  },
  "language_info": {
   "codemirror_mode": {
    "name": "ipython",
    "version": 3
   },
   "file_extension": ".py",
   "mimetype": "text/x-python",
   "name": "python",
   "nbconvert_exporter": "python",
   "pygments_lexer": "ipython3",
   "version": "3.11.4"
  }
 },
 "nbformat": 4,
 "nbformat_minor": 2
}
