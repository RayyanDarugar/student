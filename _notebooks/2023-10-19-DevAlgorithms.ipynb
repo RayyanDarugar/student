{
 "cells": [
  {
   "cell_type": "markdown",
   "metadata": {},
   "source": [
    "---\n",
    "title: Developing Algorithms Homework Hack\n",
    "comments: true\n",
    "hide: true\n",
    "layout: post\n",
    "description: Homework Hack for In class presentation for Developing Algorithms\n",
    "categories: [C7.0]\n",
    "courses: { compsci: {week: 9} }\n",
    "type: hacks\n",
    "---"
   ]
  },
  {
   "cell_type": "markdown",
   "metadata": {},
   "source": [
    "## HW HACK 1"
   ]
  },
  {
   "cell_type": "code",
   "execution_count": 1,
   "metadata": {},
   "outputs": [
    {
     "name": "stdout",
     "output_type": "stream",
     "text": [
      "Median: 83\n"
     ]
    }
   ],
   "source": [
    "# define a list of grades\n",
    "classGrades = [55, 67, 72, 78, 83, 85, 81, 44, 90, 97, 93, 96, 100]\n",
    "\n",
    "# make sure all grades are sorted so we can calculate median effectively\n",
    "classGrades.sort()\n",
    "\n",
    "#  define length of list so we can divide it and find median\n",
    "g = len(classGrades)\n",
    "\n",
    "if g % 2 == 0:\n",
    "    # to find median when length of classGrades is even you find the two middle values and average them\n",
    "    median = (classGrades[g // 2 - 1] + classGrades[g // 2]) / 2\n",
    "else:\n",
    "    # to find median value when the length is odd you just find the middle value\n",
    "    median = classGrades[g // 2]\n",
    "\n",
    "print(\"Median:\", median)"
   ]
  },
  {
   "cell_type": "markdown",
   "metadata": {},
   "source": [
    "## HW HACK 2"
   ]
  },
  {
   "cell_type": "code",
   "execution_count": 7,
   "metadata": {},
   "outputs": [
    {
     "name": "stdout",
     "output_type": "stream",
     "text": [
      "You're correct!\n"
     ]
    }
   ],
   "source": [
    "import random\n",
    "\n",
    "#define a random num 1-10\n",
    "number = random.randint(1,10)\n",
    "\n",
    "#get user input for num\n",
    "guess = int(input(\"Guess a number from 1-10:\"))\n",
    "\n",
    "# check if guess was right\n",
    "if guess == number:\n",
    "    print(f\"You're correct! You picked {number}.\")\n",
    "else:\n",
    "    print(f\"Wrong! The number was {number}\")"
   ]
  }
 ],
 "metadata": {
  "kernelspec": {
   "display_name": "Python 3",
   "language": "python",
   "name": "python3"
  },
  "language_info": {
   "codemirror_mode": {
    "name": "ipython",
    "version": 3
   },
   "file_extension": ".py",
   "mimetype": "text/x-python",
   "name": "python",
   "nbconvert_exporter": "python",
   "pygments_lexer": "ipython3",
   "version": "3.11.4"
  }
 },
 "nbformat": 4,
 "nbformat_minor": 2
}
