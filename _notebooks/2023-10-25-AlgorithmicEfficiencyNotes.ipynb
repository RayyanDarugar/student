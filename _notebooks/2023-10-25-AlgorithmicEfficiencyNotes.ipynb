{
 "cells": [
  {
   "cell_type": "markdown",
   "metadata": {},
   "source": [
    "---\n",
    "title: Algorithmic Efficiency Video Notes\n",
    "comments: true\n",
    "hide: true\n",
    "layout: post\n",
    "description: Video notes for Algorithmic Efficiency to use in our In-Class presentation\n",
    "courses: { compsci: {week: 10} } \n",
    "type: hacks\n",
    "---"
   ]
  },
  {
   "cell_type": "markdown",
   "metadata": {},
   "source": [
    "## What is Algorithmic Efficiency?\n",
    "- A way to find the fastest and least resource dependent solution to a problem\n",
    "- Measures using number of computations (you can think of them as steps) in a algorithm before you can solve your problem\n",
    "- Generally speaking less computations = faster = better code but it's heavily dependent on input size as algorithms with small input sizes may sometimes seem faster but are actually much slower at high input sizes"
   ]
  },
  {
   "cell_type": "markdown",
   "metadata": {},
   "source": [
    "## Basic Algorithm Example:\n",
    "- Picture a set of 4 cards numbered [4,6,7,2]. To sort these cards algorithmically, you run through them from left to right, comparing if the numbers are bigger or smaller than the card to their right. \n",
    "- If they're already ordered correctly, you keep them as is and mark down that you made a comparison. If they're bigger than the card on their right, you swap their positions and repeat the process for the next set of 2 cards, until you fixed them entirely. You mark down comparisons and swaps throughout the algorithm. \n",
    "- For this example, you have to make 7 comparisons and 3 swaps to make the list ordered, into [2,4,6,7], even though you're only actually changing the position of one number. "
   ]
  },
  {
   "cell_type": "markdown",
   "metadata": {},
   "source": [
    "## Better Algorithm Example:\n",
    "- A different algorithm for the same problem, for example, one where you instead hold onto the smallest card instead each time you go through the set, could only use 6 comparisons and 1 swap, making it algorithmically more efficient. "
   ]
  },
  {
   "cell_type": "markdown",
   "metadata": {},
   "source": [
    "## Algorithm Efficiency Simply Explained:\n",
    "- On the most basic level, you can think of efficiency as a measure of the number of steps it takes you to reach your answer. If one algorithm has 7 total steps and a different one for the same problem has 20, your first algorithm is likely more efficient. \n",
    "- But, when analyzing algorithm efficiency, you can only achieve accuracy by measuring with different input sizes as well. This is due to the fact that some algorithms increase their number of steps with polynomial efficiency (linear increasing or other polynomial styles), but others increase exponentially or factorially.\n",
    "- Algorithms are only reasonable if their operate with polynomial efficiency"
   ]
  },
  {
   "cell_type": "markdown",
   "metadata": {},
   "source": [
    "## Popcorn Hack 1\n",
    "\n",
    "Which algorithm in this set is unreasonable and why?\n",
    "<img src=\"{{site.baseurl}}/images/algorithmEfficiency.png\">"
   ]
  },
  {
   "cell_type": "markdown",
   "metadata": {},
   "source": [
    "ANSWER : A as it is the only one that increases exponentially (4^x vs x^3, 7+4x, etc.)"
   ]
  }
 ],
 "metadata": {
  "kernelspec": {
   "display_name": "Python 3",
   "language": "python",
   "name": "python3"
  },
  "language_info": {
   "name": "python",
   "version": "3.11.4"
  }
 },
 "nbformat": 4,
 "nbformat_minor": 2
}
