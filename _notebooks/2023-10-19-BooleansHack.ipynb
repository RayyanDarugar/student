{
 "cells": [
  {
   "cell_type": "markdown",
   "metadata": {},
   "source": [
    "---\n",
    "title: Booleans Homework Hack\n",
    "comments: true\n",
    "hide: true\n",
    "layout: post\n",
    "description: Homework Hack for In class presentation for Booleans\n",
    "categories: [C7.0]\n",
    "courses: { compsci: {week: 9} }\n",
    "type: hacks\n",
    "---"
   ]
  },
  {
   "cell_type": "markdown",
   "metadata": {},
   "source": [
    "## HW Hack 1"
   ]
  },
  {
   "cell_type": "code",
   "execution_count": 15,
   "metadata": {},
   "outputs": [
    {
     "name": "stdout",
     "output_type": "stream",
     "text": [
      "You can vote!\n"
     ]
    }
   ],
   "source": [
    "## Ask for User Input to find age and citizenship\n",
    "citizen = input(\"Are you a citizen of the United States (Y/N)\")\n",
    "\n",
    "age = int(input(\"What is your age?\"))\n",
    "\n",
    "## Check if age >= 18\n",
    "\n",
    "if age >= 18 and citizen == \"Y\":\n",
    "    print(\"You can vote!\")\n",
    "else:\n",
    "    print(\"You are too young!\")"
   ]
  },
  {
   "cell_type": "markdown",
   "metadata": {},
   "source": [
    "## HW Hack 2"
   ]
  },
  {
   "cell_type": "code",
   "execution_count": 3,
   "metadata": {},
   "outputs": [
    {
     "name": "stdout",
     "output_type": "stream",
     "text": [
      "Your net bonus is 0.5\n"
     ]
    }
   ],
   "source": [
    "## ask for current salary and years working\n",
    "\n",
    "salary = float(input(\"Input your salary: \"))\n",
    "workTime = int(input(\"Enter your years of service: \"))\n",
    "\n",
    "## find bonus amount and print it\n",
    "if workTime >= 5:\n",
    "    bonus = salary * .05\n",
    "    print(f\"Your net bonus is ${bonus}\")\n",
    "else:\n",
    "    print(\"You are not eligible for a bonus\")\n",
    "\n"
   ]
  },
  {
   "cell_type": "markdown",
   "metadata": {},
   "source": [
    "## HW Hack 3"
   ]
  },
  {
   "cell_type": "code",
   "execution_count": 5,
   "metadata": {},
   "outputs": [
    {
     "name": "stdout",
     "output_type": "stream",
     "text": [
      "Your grade is E\n"
     ]
    }
   ],
   "source": [
    "## ask for user input of marks\n",
    "\n",
    "marks = float(input(\"Enter your grade percentage!\"))\n",
    "\n",
    "if marks < 25:\n",
    "    print(\"Your grade is F\")\n",
    "elif 25 <= marks < 45:\n",
    "    print(\"Your grade is E\")\n",
    "elif 45<= marks<50:\n",
    "    print(\"Your grade is D\")\n",
    "elif 50<= marks < 60:\n",
    "    print(\"Your grade is C\")\n",
    "elif 60<= marks <= 80:\n",
    "    print(\"Your grade is B\")\n",
    "elif marks > 80:\n",
    "    print(\"Your grade is A\")"
   ]
  }
 ],
 "metadata": {
  "kernelspec": {
   "display_name": "Python 3",
   "language": "python",
   "name": "python3"
  },
  "language_info": {
   "codemirror_mode": {
    "name": "ipython",
    "version": 3
   },
   "file_extension": ".py",
   "mimetype": "text/x-python",
   "name": "python",
   "nbconvert_exporter": "python",
   "pygments_lexer": "ipython3",
   "version": "3.11.4"
  }
 },
 "nbformat": 4,
 "nbformat_minor": 2
}
