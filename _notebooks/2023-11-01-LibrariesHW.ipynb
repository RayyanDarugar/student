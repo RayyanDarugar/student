{
 "cells": [
  {
   "cell_type": "markdown",
   "metadata": {},
   "source": [
    "---\n",
    "title: Libraries HW\n",
    "comments: true\n",
    "hide: true\n",
    "layout: post\n",
    "description: Homework Hack for In class presentation for Libraries\n",
    "courses: { compsci: {week: 11} } \n",
    "type: hacks\n",
    "---"
   ]
  },
  {
   "cell_type": "markdown",
   "metadata": {},
   "source": [
    "1.  Research 3 different libraries in python. Explain their purpose as well as two of your favorite variables/functions in each. Type out your response.\n",
    "2. Research an API. What is something unique about it that you learned in the documentation? What type of an API is it? What does it do? Brainstorm a potential scenario. Type out your response.\n",
    "2. Import a data manipulation library and use a prefixed function and prefixed variable (w/comments)."
   ]
  },
  {
   "cell_type": "markdown",
   "metadata": {},
   "source": [
    "## HW HACK 1"
   ]
  },
  {
   "cell_type": "markdown",
   "metadata": {},
   "source": [
    "### Library 1: Pandas\n",
    "\n",
    "Pandas is a popular Python library for data manipulation and analysis. It provides easy-to-use data structures and data analysis tools for working with structured data, such as tables, spreadsheets, and time-series data. \n",
    "\n",
    "My favorite functions in Pandas are groupby() to split up data  and pivot_table() to transform it and reshape it.\n",
    "\n",
    "### Library 2: Random\n",
    "\n",
    "Random is a great and simple python library for getting random numbers or outputs. Two of my favorite functions are random.random() or random.shuffle().\n",
    "\n",
    "### Library 3: Flask\n",
    "\n",
    "Flask is a library we're using currently to host backend python servers. Two of my favorite functions are @app.route(‘/api/data’), and\n",
    "return render_template(‘index.html’)."
   ]
  },
  {
   "cell_type": "markdown",
   "metadata": {},
   "source": [
    "## HW HACK 2"
   ]
  },
  {
   "cell_type": "markdown",
   "metadata": {},
   "source": [
    "### Google Maps Javascript API\n",
    "\n",
    "The Google Maps API allows developers to embed interactive and customizable Google Maps into web applications. Something unique I learned from the documentation was that you can customize the map sytles, with custom icons and color schemes to fit your website. Its a web-mapping API with a wide range of features. I could use it to develop a geoguessr game or make software for a scheduling app that gives you in-house directions to meetings."
   ]
  },
  {
   "cell_type": "markdown",
   "metadata": {},
   "source": [
    "## HW HACK 3"
   ]
  },
  {
   "cell_type": "code",
   "execution_count": 2,
   "metadata": {},
   "outputs": [
    {
     "name": "stdout",
     "output_type": "stream",
     "text": [
      "Result of element-wise addition: [ 7  9 11 13 15]\n",
      "Mean of the result: 11.0\n"
     ]
    }
   ],
   "source": [
    "# Import NumPy library with alias 'np'\n",
    "import numpy as np\n",
    "\n",
    "# Create two NumPy arrays\n",
    "array1 = np.array([1, 2, 3, 4, 5])\n",
    "array2 = np.array([6, 7, 8, 9, 10])\n",
    "\n",
    "# Perform element-wise addition\n",
    "result = array1 + array2\n",
    "\n",
    "# Calculate the mean of resulting array\n",
    "mean = np.mean(result)\n",
    "\n",
    "# Print result and mean\n",
    "print(\"Result of element-wise addition:\", result)\n",
    "print(\"Mean of the result:\", mean)"
   ]
  }
 ],
 "metadata": {
  "kernelspec": {
   "display_name": "Python 3",
   "language": "python",
   "name": "python3"
  },
  "language_info": {
   "codemirror_mode": {
    "name": "ipython",
    "version": 3
   },
   "file_extension": ".py",
   "mimetype": "text/x-python",
   "name": "python",
   "nbconvert_exporter": "python",
   "pygments_lexer": "ipython3",
   "version": "3.11.4"
  }
 },
 "nbformat": 4,
 "nbformat_minor": 2
}
