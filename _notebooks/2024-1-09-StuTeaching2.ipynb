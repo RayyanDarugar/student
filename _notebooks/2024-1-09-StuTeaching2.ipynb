{
 "cells": [
  {
   "cell_type": "markdown",
   "metadata": {},
   "source": [
    "|              &nbsp;            |          Score          | Grader Verification | Extras | Key Indicators: Blog, GitHub File(s) and Key Commits |\n",
    "| :----------------------------: | :---------------------: | :-----------------: | :----: | :--------------------------------------------------: |\n",
    "| The Internet                   | 0.95/1                  | e                   | e | [Link to GitHub.io with lesson and homework](https://jasongao76.github.io/students//2023/11/27/Internet.html)  | | |\n",
    "| Routing and Computing          | 1/1                  | e                   | e | [Link to GitHub.io with lesson and homework](https://jasongao76.github.io/students//2023/11/30/RoutingComputingHW.html)  | | |\n",
    "| Beneficial and Harmful Effects | 1/1 (I presented) | e                   | e | [Link to GitHub.io with lesson and homework](https://jasongao76.github.io/students//2023/12/01/Beneficial_and_Harmful_Effects_IPYNB_2_.html), [Link to GitHub comment with self-grading](https://github.com/nighthawkcoders/teacher_portfolio/issues/94) | | |\n",
    "| Digital Divide                 | 1/1                     | e                   | e | [Link to GitHub.io with lesson and homework](https://jasongao76.github.io/students//2023/12/05/Digital-Divide_IPYNB_2_.html)  | | |\n",
    "| Computing Bias                 | 0.9/1                  | e                   | e | [Link to GitHub.io with lesson and homework](https://jasongao76.github.io/students//2023/12/12/Computing_Bias_IPYNB_2_.html)  | | |\n",
    "| Crowdsourcing                  | 1/1                     | e                   | e | [Link to GitHub.io with lesson and homework](https://jasongao76.github.io/students//2023/12/14/Class_6_Crowdsourcing_IPYNB_2_.html)  | | |\n",
    "| Legal and Ethical Concerns     | 1/1                     | e                   | e | [Link to GitHub.io with lesson and homework](https://jasongao76.github.io/students//2023/12/19/Legalandethicalconcerns.html)  | | |\n",
    "| Safe Computing                 | 1/1                     | e                   | e | [Link to GitHub.io with lesson and homework](https://jasongao76.github.io/students//2023/12/21/Safe_ComputingP5_IPYNB_2_.html)  | |\n",
    "| CB Quiz                        | 63/67 = 0.94/1          | e                   | e | [Link to blog post reviewing CollegeBoard MC Quiz](https://jasongao76.github.io/students//2023/12/17/CB_MC_Notes.html), [Link to blog post reviewing Collegeboard FRQ Quiz and plans for CPT Project](https://jasongao76.github.io/students//2023/12/17/CB_FRQ_Notes.html) |\n",
    "| Totals                         | Median Score: 0.98/1    | Number Complete:    | Extra Effort Count: | Key Tangible Assets Count: 9/9 |"
   ]
  }
 ],
 "metadata": {
  "language_info": {
   "name": "python"
  }
 },
 "nbformat": 4,
 "nbformat_minor": 2
}
