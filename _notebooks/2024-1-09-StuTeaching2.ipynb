{
 "cells": [
  {
   "cell_type": "markdown",
   "metadata": {},
   "source": [
    "|              &nbsp;            |          Score          | Grader Verification | Extras | Key Indicators: Blog, GitHub File(s) and Key Commits |\n",
    "| :----------------------------: | :---------------------: | :-----------------: | :----: | :--------------------------------------------------: |\n",
    "| The Internet                   | 0.95/1                  | Ryan Liu                |  | [Link to GitHub.io with lesson and homework](https://rayyandarugar.github.io/student//2023/11/27/TheInternetHW_IPYNB_2_.html)  | | |\n",
    "| Routing and Computing          | 1/1                  | Sri S                | Completed all of homework and reviewed for CB MCQ, did extra research into topic after for personal reasons | [Link to GitHub.io with lesson and homework](https://rayyandarugar.github.io/student//2023/12/12/RoutingComputing_IPYNB_2_.html)  | | |\n",
    "| Beneficial and Harmful Effects | 1/1 (I presented) | Jason/Me                   | Went into high depth on AI uses and functions in society | [Link to GitHub.io with lesson and homework](https://jasongao76.github.io/students//2023/12/01/Beneficial_and_Harmful_Effects_IPYNB_2_.html), [Link to GitHub comment with self-grading](https://github.com/nighthawkcoders/teacher_portfolio/issues/94) | | |\n",
    "| Digital Divide                 | 1/1                     | Aditya R                  |  | [Link to GitHub.io with lesson and homework](https://rayyandarugar.github.io/student//2023/12/05/Digital-Divide_IPYNB_2_.html)  | | |\n",
    "| Computing Bias                 | 0.9/1                  | Tanvi P                   | | [Link to GitHub.io with lesson and homework](https://rayyandarugar.github.io/student//2023/12/17/Computing_bias_HW_IPYNB_2_.html)  | | |\n",
    "| Crowdsourcing                  | 1/1                     | Samhita L                  | | [Link to GitHub.io with lesson and homework](https://rayyandarugar.github.io/student//2023/12/14/Class_6_Crowdsourcing_IPYNB_2_.html)  | | |\n",
    "| Legal and Ethical Concerns     | .96/1                     | Cindy Liang                 | Completed all of homework and reviewed for CB MCQ, did well thought out EC | [Link to GitHub.io with lesson and homework](https://rayyandarugar.github.io/student//2023-11-29-Legalandethicalconcerns.html)  | | |\n",
    "| Safe Computing                 | 1/1                     | Yeongsu                   | Completed all of homework and reviewed for CB MCQ, effectively coded password checker | [Link to GitHub.io with lesson and homework](https://rayyandarugar.github.io/student//2023/12/21/Safe_ComputingP5_IPYNB_2_.html)  | |\n",
    "| CB Quiz                        | 63/67 = 0.94/1          | Mr. Lopez                   | Went in depth on what I needed to improve and which questions gave me trouble | [Link to blog post reviewing CollegeBoard MC Quiz](https://rayyandarugar.github.io/student//2023/12/22/CollegeboardMC2020_Review_IPYNB_2_.html) |\n",
    "| Totals                         | Median Score: 0.972/1    | Number Complete: 9   | Extra Effort Count: 5 | Key Tangible Assets Count: 9/9 |"
   ]
  }
 ],
 "metadata": {
  "language_info": {
   "name": "python"
  }
 },
 "nbformat": 4,
 "nbformat_minor": 2
}
