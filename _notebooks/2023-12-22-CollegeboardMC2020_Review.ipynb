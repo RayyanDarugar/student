{
 "cells": [
  {
   "cell_type": "markdown",
   "metadata": {},
   "source": [
    "---\n",
    "toc: true\n",
    "comments: true\n",
    "layout: post\n",
    "title: Collegeboard MC 2020 Review\n",
    "description: Review blogpost for the Collegeboard 2020 MC, goes over question corrections and how I studied to take it\n",
    "type: tangibles\n",
    "courses: { compsci: {week: 16} }\n",
    "---"
   ]
  },
  {
   "cell_type": "markdown",
   "metadata": {},
   "source": [
    "## My Score and Corrections\n",
    "\n",
    "### Score I got: 63/67\n",
    "\n",
    "## Corrections:\n",
    "\n",
    "### Question 22\n",
    "Question:\n",
    "[![Question22](https://i.postimg.cc/fLCgQcVm/Screenshot-2023-12-22-at-12-53-54-AM.png)](https://postimg.cc/jwWhzJQS)\n",
    "My answer:\n",
    "[![Screenshot-2023-12-22-at-12-54-13-AM.png](https://i.postimg.cc/52J7yK8L/Screenshot-2023-12-22-at-12-54-13-AM.png)](https://postimg.cc/QH6knb4d)\n",
    "Correct answer:\n",
    "[![Screenshot-2023-12-22-at-12-54-05-AM.png](https://i.postimg.cc/4djwgWJK/Screenshot-2023-12-22-at-12-54-05-AM.png)](https://postimg.cc/Kkrt7r3F)\n",
    "\n",
    "- The issue I had with this problem was that I rushed through it and missed the crucial detail that was running the random function for any one of 8, this was a genuine personal mistake as I didn't see the number.\n",
    "\n",
    "### Question 39\n",
    "Question and My answer:\n",
    "[![Screenshot-2023-12-22-at-12-54-36-AM.png](https://i.postimg.cc/KcLDTrGN/Screenshot-2023-12-22-at-12-54-36-AM.png)](https://postimg.cc/nMFmbmQj)\n",
    "Correct Answer:\n",
    "[![Screenshot-2023-12-22-at-12-54-50-AM.png](https://i.postimg.cc/BQB5YS1P/Screenshot-2023-12-22-at-12-54-50-AM.png)](https://postimg.cc/2V3B3fGC)\n",
    "\n",
    "- For this problem I should have written out the sequence of numbers - as it starts at i=1, displaying after adding another 1 would miss the first term and result in an incorrect array. I did not see that, and that caused my mistake.\n",
    "### Question 44\n",
    "Question and My Answer:\n",
    "[![Screenshot-2023-12-22-at-12-56-07-AM.png](https://i.postimg.cc/tJLcBX1M/Screenshot-2023-12-22-at-12-56-07-AM.png)](https://postimg.cc/wRQFvYQX)\n",
    "Correct Answer:\n",
    "[![Screenshot-2023-12-22-at-12-56-12-AM.png](https://i.postimg.cc/05MP0jFZ/Screenshot-2023-12-22-at-12-56-12-AM.png)](https://postimg.cc/3WTsK8KD)\n",
    "\n",
    "- This one I definetly struggled with a lot while solving. I wasn't sure if I was allowed to sever connections not directly from T to something else and missed the obvious solution, which was that if you remove the only 2 pathways to U its impossible to connect. I tried going the other way instead, and thought about breaking TP, TV, TS, and TQ so there was no link.\n",
    "\n",
    "### Question 56\n",
    "Question:\n",
    "[![Screenshot-2023-12-22-at-12-55-17-AM.png](https://i.postimg.cc/3xpkS9qS/Screenshot-2023-12-22-at-12-55-17-AM.png)](https://postimg.cc/HrYWj0dX)\n",
    "My Answer:\n",
    "[![Screenshot-2023-12-22-at-12-55-05-AM.png](https://i.postimg.cc/fLHytP3L/Screenshot-2023-12-22-at-12-55-05-AM.png)](https://postimg.cc/34vYznF5)\n",
    "Correct Answer:\n",
    "[![Screenshot-2023-12-22-at-12-55-24-AM.png](https://i.postimg.cc/d0wVWFr3/Screenshot-2023-12-22-at-12-55-24-AM.png)](https://postimg.cc/NKCtMWNv)\n",
    "\n",
    "- This was a really tough question at least for me to visualize as I couldn't tell the rules for what counted as a run of GetPrediction and what didn't. I assumed you only ran getprediction once for topID, which looking back at the code was definetly a misconception. Once I looked back I realized that you need to count 2 GetPredictions per repeat and there are 4 repeats, + the one for displaying your answer, which makes 9 minutes, or 5 minutes more than V1.\n",
    "\n",
    "## How I studied:\n",
    "- In class student teaches:\n",
    "    - Many of the collegeboard questions came from information directly found in the collegeboard Big Ideas. By paying attention in class during student team teaches, and completing every team teach homework dillegently with thought, I was able to retain much of the information needed. \n",
    "    - I also reviewed the presentations themselves for a boost during challenging parts of the test, looking back to see things like how IPv6 addresses and Creative Commons liscences worked.\n",
    "- Pseudocode:\n",
    "    - I looked over a lot of presentations from last trimester as they talked much more on principles like algorithmic efficiency, simulations, how pseudocode works, logic gates (these were a big big part of it), and much more\n",
    "    - I also kept the collegeboard CSP reference sheet opened to help me understand how some pseudo elements worked but as this was the second test so far I had a good grasp on it.\n",
    "    - Link to collegeboard reference sheet [here](https://apcentral.collegeboard.org/media/pdf/ap-computer-science-principles-exam-reference-sheet.pdf?course=ap-computer-science-principles)"
   ]
  }
 ],
 "metadata": {
  "language_info": {
   "name": "python"
  }
 },
 "nbformat": 4,
 "nbformat_minor": 2
}
